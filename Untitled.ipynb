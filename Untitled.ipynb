{
 "cells": [
  {
   "cell_type": "code",
   "execution_count": 1,
   "metadata": {},
   "outputs": [],
   "source": [
    "#!/usr/bin/env python\n",
    "def df2sqlite(dataframe, db_name = \"temp-movie-machin.db\", tbl_name = \"ratings\"):\n",
    "\n",
    " import sqlite3\n",
    " conn=sqlite3.connect(db_name)\n",
    " cur = conn.cursor()\n",
    "\n",
    " wildcards = ','.join(['?'] * len(dataframe.columns))\n",
    " data = [tuple(x) for x in dataframe.values]\n",
    "\n",
    " cur.execute(\"drop table if exists %s\" % tbl_name)\n",
    "\n",
    " col_str = '\"' + '\",\"'.join(dataframe.columns) + '\"'\n",
    " cur.execute(\"create table %s (%s)\" % (tbl_name, col_str))\n",
    "\n",
    " cur.executemany(\"insert into %s values(%s)\" % (tbl_name, wildcards), data)\n",
    "\n",
    " conn.commit()\n",
    " conn.close()"
   ]
  },
  {
   "cell_type": "code",
   "execution_count": 5,
   "metadata": {},
   "outputs": [
    {
     "data": {
      "text/html": [
       "<div>\n",
       "<style scoped>\n",
       "    .dataframe tbody tr th:only-of-type {\n",
       "        vertical-align: middle;\n",
       "    }\n",
       "\n",
       "    .dataframe tbody tr th {\n",
       "        vertical-align: top;\n",
       "    }\n",
       "\n",
       "    .dataframe thead th {\n",
       "        text-align: right;\n",
       "    }\n",
       "</style>\n",
       "<table border=\"1\" class=\"dataframe\">\n",
       "  <thead>\n",
       "    <tr style=\"text-align: right;\">\n",
       "      <th></th>\n",
       "      <th>userId</th>\n",
       "      <th>movieId</th>\n",
       "      <th>rating</th>\n",
       "      <th>timestamp</th>\n",
       "    </tr>\n",
       "  </thead>\n",
       "  <tbody>\n",
       "    <tr>\n",
       "      <th>0</th>\n",
       "      <td>156936</td>\n",
       "      <td>110</td>\n",
       "      <td>5.0</td>\n",
       "      <td>1204320027</td>\n",
       "    </tr>\n",
       "    <tr>\n",
       "      <th>1</th>\n",
       "      <td>249704</td>\n",
       "      <td>110</td>\n",
       "      <td>4.5</td>\n",
       "      <td>1455809395</td>\n",
       "    </tr>\n",
       "    <tr>\n",
       "      <th>2</th>\n",
       "      <td>11404</td>\n",
       "      <td>110</td>\n",
       "      <td>5.0</td>\n",
       "      <td>1043533306</td>\n",
       "    </tr>\n",
       "    <tr>\n",
       "      <th>3</th>\n",
       "      <td>73880</td>\n",
       "      <td>110</td>\n",
       "      <td>4.0</td>\n",
       "      <td>1215768611</td>\n",
       "    </tr>\n",
       "    <tr>\n",
       "      <th>4</th>\n",
       "      <td>252505</td>\n",
       "      <td>110</td>\n",
       "      <td>4.0</td>\n",
       "      <td>1212967025</td>\n",
       "    </tr>\n",
       "  </tbody>\n",
       "</table>\n",
       "</div>"
      ],
      "text/plain": [
       "   userId  movieId  rating   timestamp\n",
       "0  156936      110     5.0  1204320027\n",
       "1  249704      110     4.5  1455809395\n",
       "2   11404      110     5.0  1043533306\n",
       "3   73880      110     4.0  1215768611\n",
       "4  252505      110     4.0  1212967025"
      ]
     },
     "execution_count": 5,
     "metadata": {},
     "output_type": "execute_result"
    }
   ],
   "source": [
    "# Load the Pandas libraries with alias 'pd' \n",
    "import pandas as pd \n",
    "# Read data from file 'filename.csv' \n",
    "# (in the same directory that your python process is based)\n",
    "# Control delimiters, rows, column names with read_csv (see later) \n",
    "data = pd.read_csv(\"ratings_small.csv\") \n",
    "# Preview the first 5 lines of the loaded data \n",
    "data.head()"
   ]
  },
  {
   "cell_type": "code",
   "execution_count": 6,
   "metadata": {},
   "outputs": [],
   "source": [
    "df2sqlite(data)"
   ]
  },
  {
   "cell_type": "code",
   "execution_count": null,
   "metadata": {},
   "outputs": [],
   "source": []
  }
 ],
 "metadata": {
  "kernelspec": {
   "display_name": "Python [default]",
   "language": "python",
   "name": "python3"
  },
  "language_info": {
   "codemirror_mode": {
    "name": "ipython",
    "version": 3
   },
   "file_extension": ".py",
   "mimetype": "text/x-python",
   "name": "python",
   "nbconvert_exporter": "python",
   "pygments_lexer": "ipython3",
   "version": "3.6.5"
  }
 },
 "nbformat": 4,
 "nbformat_minor": 2
}
