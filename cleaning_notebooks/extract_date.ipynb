{
 "cells": [
  {
   "cell_type": "code",
   "execution_count": 1,
   "metadata": {},
   "outputs": [],
   "source": [
    "import numpy as np\n",
    "import pandas as pd"
   ]
  },
  {
   "cell_type": "code",
   "execution_count": 66,
   "metadata": {},
   "outputs": [
    {
     "data": {
      "text/html": [
       "<div>\n",
       "<style scoped>\n",
       "    .dataframe tbody tr th:only-of-type {\n",
       "        vertical-align: middle;\n",
       "    }\n",
       "\n",
       "    .dataframe tbody tr th {\n",
       "        vertical-align: top;\n",
       "    }\n",
       "\n",
       "    .dataframe thead th {\n",
       "        text-align: right;\n",
       "    }\n",
       "</style>\n",
       "<table border=\"1\" class=\"dataframe\">\n",
       "  <thead>\n",
       "    <tr style=\"text-align: right;\">\n",
       "      <th></th>\n",
       "      <th>budget</th>\n",
       "      <th>id</th>\n",
       "      <th>popularity</th>\n",
       "      <th>revenue</th>\n",
       "      <th>runtime</th>\n",
       "      <th>spoken_languages</th>\n",
       "      <th>vote_average</th>\n",
       "      <th>vote_count</th>\n",
       "      <th>weighted_rating</th>\n",
       "      <th>cast_size</th>\n",
       "      <th>crew_size</th>\n",
       "      <th>revenue_divide_budget</th>\n",
       "    </tr>\n",
       "  </thead>\n",
       "  <tbody>\n",
       "    <tr>\n",
       "      <th>count</th>\n",
       "      <td>9.053000e+03</td>\n",
       "      <td>46624.000000</td>\n",
       "      <td>46624.000000</td>\n",
       "      <td>7.537000e+03</td>\n",
       "      <td>46360.000000</td>\n",
       "      <td>46624.000000</td>\n",
       "      <td>46624.000000</td>\n",
       "      <td>46624.000000</td>\n",
       "      <td>46624.000000</td>\n",
       "      <td>46624.000000</td>\n",
       "      <td>46624.000000</td>\n",
       "      <td>5.458000e+03</td>\n",
       "    </tr>\n",
       "    <tr>\n",
       "      <th>mean</th>\n",
       "      <td>2.144505e+07</td>\n",
       "      <td>109673.134287</td>\n",
       "      <td>2.894411</td>\n",
       "      <td>6.821719e+07</td>\n",
       "      <td>94.086885</td>\n",
       "      <td>1.169955</td>\n",
       "      <td>5.611728</td>\n",
       "      <td>108.169719</td>\n",
       "      <td>5.542819</td>\n",
       "      <td>12.313615</td>\n",
       "      <td>10.152089</td>\n",
       "      <td>5.487417e+03</td>\n",
       "    </tr>\n",
       "    <tr>\n",
       "      <th>std</th>\n",
       "      <td>3.415291e+07</td>\n",
       "      <td>112909.183875</td>\n",
       "      <td>5.950483</td>\n",
       "      <td>1.458936e+08</td>\n",
       "      <td>38.454015</td>\n",
       "      <td>0.751369</td>\n",
       "      <td>1.932157</td>\n",
       "      <td>486.429314</td>\n",
       "      <td>0.544139</td>\n",
       "      <td>12.018949</td>\n",
       "      <td>15.714359</td>\n",
       "      <td>2.153222e+05</td>\n",
       "    </tr>\n",
       "    <tr>\n",
       "      <th>min</th>\n",
       "      <td>1.000000e+00</td>\n",
       "      <td>2.000000</td>\n",
       "      <td>0.000000</td>\n",
       "      <td>1.000000e+00</td>\n",
       "      <td>0.000000</td>\n",
       "      <td>0.000000</td>\n",
       "      <td>0.000000</td>\n",
       "      <td>0.000000</td>\n",
       "      <td>1.915222</td>\n",
       "      <td>0.000000</td>\n",
       "      <td>0.000000</td>\n",
       "      <td>5.217391e-07</td>\n",
       "    </tr>\n",
       "    <tr>\n",
       "      <th>25%</th>\n",
       "      <td>2.000000e+06</td>\n",
       "      <td>26757.250000</td>\n",
       "      <td>0.382721</td>\n",
       "      <td>2.300000e+06</td>\n",
       "      <td>85.000000</td>\n",
       "      <td>1.000000</td>\n",
       "      <td>5.000000</td>\n",
       "      <td>3.000000</td>\n",
       "      <td>5.213571</td>\n",
       "      <td>6.000000</td>\n",
       "      <td>2.000000</td>\n",
       "      <td>7.858306e-01</td>\n",
       "    </tr>\n",
       "    <tr>\n",
       "      <th>50%</th>\n",
       "      <td>8.000000e+06</td>\n",
       "      <td>61293.500000</td>\n",
       "      <td>1.115187</td>\n",
       "      <td>1.662719e+07</td>\n",
       "      <td>95.000000</td>\n",
       "      <td>1.000000</td>\n",
       "      <td>6.000000</td>\n",
       "      <td>10.000000</td>\n",
       "      <td>5.400402</td>\n",
       "      <td>10.000000</td>\n",
       "      <td>6.000000</td>\n",
       "      <td>2.047226e+00</td>\n",
       "    </tr>\n",
       "    <tr>\n",
       "      <th>75%</th>\n",
       "      <td>2.500000e+07</td>\n",
       "      <td>159616.750000</td>\n",
       "      <td>3.610563</td>\n",
       "      <td>6.613263e+07</td>\n",
       "      <td>107.000000</td>\n",
       "      <td>1.000000</td>\n",
       "      <td>6.800000</td>\n",
       "      <td>34.000000</td>\n",
       "      <td>5.726711</td>\n",
       "      <td>15.000000</td>\n",
       "      <td>12.000000</td>\n",
       "      <td>4.253283e+00</td>\n",
       "    </tr>\n",
       "    <tr>\n",
       "      <th>max</th>\n",
       "      <td>3.800000e+08</td>\n",
       "      <td>469172.000000</td>\n",
       "      <td>547.488298</td>\n",
       "      <td>2.787965e+09</td>\n",
       "      <td>1256.000000</td>\n",
       "      <td>19.000000</td>\n",
       "      <td>10.000000</td>\n",
       "      <td>14075.000000</td>\n",
       "      <td>8.911373</td>\n",
       "      <td>313.000000</td>\n",
       "      <td>435.000000</td>\n",
       "      <td>1.239638e+07</td>\n",
       "    </tr>\n",
       "  </tbody>\n",
       "</table>\n",
       "</div>"
      ],
      "text/plain": [
       "             budget             id    popularity       revenue       runtime  \\\n",
       "count  9.053000e+03   46624.000000  46624.000000  7.537000e+03  46360.000000   \n",
       "mean   2.144505e+07  109673.134287      2.894411  6.821719e+07     94.086885   \n",
       "std    3.415291e+07  112909.183875      5.950483  1.458936e+08     38.454015   \n",
       "min    1.000000e+00       2.000000      0.000000  1.000000e+00      0.000000   \n",
       "25%    2.000000e+06   26757.250000      0.382721  2.300000e+06     85.000000   \n",
       "50%    8.000000e+06   61293.500000      1.115187  1.662719e+07     95.000000   \n",
       "75%    2.500000e+07  159616.750000      3.610563  6.613263e+07    107.000000   \n",
       "max    3.800000e+08  469172.000000    547.488298  2.787965e+09   1256.000000   \n",
       "\n",
       "       spoken_languages  vote_average    vote_count  weighted_rating  \\\n",
       "count      46624.000000  46624.000000  46624.000000     46624.000000   \n",
       "mean           1.169955      5.611728    108.169719         5.542819   \n",
       "std            0.751369      1.932157    486.429314         0.544139   \n",
       "min            0.000000      0.000000      0.000000         1.915222   \n",
       "25%            1.000000      5.000000      3.000000         5.213571   \n",
       "50%            1.000000      6.000000     10.000000         5.400402   \n",
       "75%            1.000000      6.800000     34.000000         5.726711   \n",
       "max           19.000000     10.000000  14075.000000         8.911373   \n",
       "\n",
       "          cast_size     crew_size  revenue_divide_budget  \n",
       "count  46624.000000  46624.000000           5.458000e+03  \n",
       "mean      12.313615     10.152089           5.487417e+03  \n",
       "std       12.018949     15.714359           2.153222e+05  \n",
       "min        0.000000      0.000000           5.217391e-07  \n",
       "25%        6.000000      2.000000           7.858306e-01  \n",
       "50%       10.000000      6.000000           2.047226e+00  \n",
       "75%       15.000000     12.000000           4.253283e+00  \n",
       "max      313.000000    435.000000           1.239638e+07  "
      ]
     },
     "execution_count": 66,
     "metadata": {},
     "output_type": "execute_result"
    }
   ],
   "source": [
    "df = pd.read_csv(\"movies.gz\")"
   ]
  },
  {
   "cell_type": "code",
   "execution_count": 7,
   "metadata": {},
   "outputs": [
    {
     "data": {
      "text/plain": [
       "0    1995-10-30\n",
       "1    1995-12-15\n",
       "2    1995-12-22\n",
       "3    1995-12-22\n",
       "4    1995-02-10\n",
       "Name: release_date, dtype: object"
      ]
     },
     "execution_count": 7,
     "metadata": {},
     "output_type": "execute_result"
    }
   ],
   "source": [
    "df[\"release_date\"].head()"
   ]
  },
  {
   "cell_type": "code",
   "execution_count": 59,
   "metadata": {},
   "outputs": [],
   "source": [
    "split = []\n",
    "years = []\n",
    "months = []\n",
    "days = []\n",
    "\n",
    "for i in range(len(df[\"release_date\"])):\n",
    "    try:\n",
    "        split.append(df[\"release_date\"][i].split(\"-\"))\n",
    "        years.append(split[i][0])\n",
    "        months.append(split[i][1])\n",
    "        days.append(split[i][2])\n",
    "        \n",
    "    except AttributeError:\n",
    "        split.append(np.nan)\n",
    "        years.append(np.nan)\n",
    "        months.append(np.nan)\n",
    "        days.append(np.nan)                   "
   ]
  },
  {
   "cell_type": "code",
   "execution_count": 65,
   "metadata": {},
   "outputs": [
    {
     "name": "stdout",
     "output_type": "stream",
     "text": [
      "46624 46624 46624 46624\n"
     ]
    }
   ],
   "source": [
    "print(len(split), len(years), len(months), len(days))"
   ]
  },
  {
   "cell_type": "code",
   "execution_count": 56,
   "metadata": {},
   "outputs": [
    {
     "data": {
      "text/plain": [
       "['1995', '12', '15']"
      ]
     },
     "execution_count": 56,
     "metadata": {},
     "output_type": "execute_result"
    }
   ],
   "source": [
    "years[1]"
   ]
  },
  {
   "cell_type": "code",
   "execution_count": 68,
   "metadata": {},
   "outputs": [],
   "source": [
    "se_year = pd.Series(years)\n",
    "se_month = pd.Series(months)\n",
    "se_day = pd.Series(days)\n",
    "\n",
    "df[\"release_year\"] = se_year.values\n",
    "df[\"release_month\"] = se_month.values\n",
    "df[\"release_day\"] = se_day.values"
   ]
  },
  {
   "cell_type": "code",
   "execution_count": null,
   "metadata": {},
   "outputs": [],
   "source": [
    "del df[\"release_date\"]\n",
    "df.to_csv(\"movie_metadata_flatdate.csv\")"
   ]
  }
 ],
 "metadata": {
  "kernelspec": {
   "display_name": "Python 3",
   "language": "python",
   "name": "python3"
  },
  "language_info": {
   "codemirror_mode": {
    "name": "ipython",
    "version": 3
   },
   "file_extension": ".py",
   "mimetype": "text/x-python",
   "name": "python",
   "nbconvert_exporter": "python",
   "pygments_lexer": "ipython3",
   "version": "3.6.4"
  }
 },
 "nbformat": 4,
 "nbformat_minor": 2
}
