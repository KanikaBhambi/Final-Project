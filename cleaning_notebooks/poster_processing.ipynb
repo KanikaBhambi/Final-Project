{
 "cells": [
  {
   "cell_type": "code",
   "execution_count": null,
   "metadata": {},
   "outputs": [],
   "source": [
    "import numpy as np\n",
    "from skimage import io\n",
    "import pandas as pd"
   ]
  },
  {
   "cell_type": "code",
   "execution_count": null,
   "metadata": {},
   "outputs": [],
   "source": [
    "df = pd.read_csv(\"movies.gz\")"
   ]
  },
  {
   "cell_type": "code",
   "execution_count": null,
   "metadata": {},
   "outputs": [],
   "source": [
    "df[\"poster_path\"].head()"
   ]
  },
  {
   "cell_type": "code",
   "execution_count": null,
   "metadata": {
    "scrolled": true
   },
   "outputs": [],
   "source": [
    "darkness = []\n",
    "colorfulness = []\n",
    "i=0\n",
    "\n",
    "for poster in df[\"poster_path\"]:\n",
    "    print(\"Image #: \" + str(i))\n",
    "    try:\n",
    "        url = (\"http://image.tmdb.org/t/p/w185_and_h278_bestv2\" + poster)\n",
    "        print(\"Grabbing image from: \" + url)\n",
    "        image = io.imread(url)\n",
    "        \n",
    "        red = [sets[0] for sets in image]\n",
    "        green = [sets[1] for sets in image]\n",
    "        blue = [sets[2] for sets in image]\n",
    "    \n",
    "        rgb = []\n",
    "        rgb.append(np.var(red))\n",
    "        rgb.append(np.var(green))\n",
    "        rgb.append(np.var(blue))\n",
    "    \n",
    "        print(\"RGB vars: \" + str(rgb))\n",
    "    \n",
    "        darkness.append(np.average(image))\n",
    "        colorfulness.append(np.average(rgb))\n",
    "        \n",
    "        i += 1\n",
    "    except TypeError:\n",
    "        print(\"Invalid URL\")\n",
    "        darkness.append(np.nan)\n",
    "        colorfulness.append(np.nan)\n",
    "        \n",
    "        i+=1\n",
    "    \n",
    "    \n",
    "    \n",
    "    "
   ]
  },
  {
   "cell_type": "code",
   "execution_count": null,
   "metadata": {},
   "outputs": [],
   "source": [
    "se_dark = pd.Series(darkness)\n",
    "se_color = pd.Series(colorfulness)\n",
    "df['darkness'] = se_dark.values\n",
    "df['colorfulness'] = se_color.values"
   ]
  },
  {
   "cell_type": "code",
   "execution_count": null,
   "metadata": {},
   "outputs": [],
   "source": [
    "del df['poster_path']\n",
    "df.to_csv(\"movie_metadata_images.csv\")"
   ]
  }
 ],
 "metadata": {
  "kernelspec": {
   "display_name": "Python [default]",
   "language": "python",
   "name": "python3"
  },
  "language_info": {
   "codemirror_mode": {
    "name": "ipython",
    "version": 3
   },
   "file_extension": ".py",
   "mimetype": "text/x-python",
   "name": "python",
   "nbconvert_exporter": "python",
   "pygments_lexer": "ipython3",
   "version": "3.6.4"
  }
 },
 "nbformat": 4,
 "nbformat_minor": 2
}
