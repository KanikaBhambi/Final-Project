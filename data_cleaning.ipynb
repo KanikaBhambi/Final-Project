{
 "cells": [
  {
   "cell_type": "markdown",
   "metadata": {},
   "source": [
    "# Data Cleaning\n",
    "\n",
    "This notebook compiles everyone's data cleaning code together.\n",
    "\n",
    "The overall objective of the data cleaning step is to process raw datasets (credits.csv, keywords.csv, and movies_metadata.csv) into a single dataframe that is ready for feature transformation and unsupervised learning. Here below are more specific objectives to clean the data:\n",
    "\n",
    "1. Load and merge tables related to the content of movies (credits.csv, keywords.csv, and movies_metadata.csv)\n",
    "2. Clean features that have collections of data, e.g. [{'id': 16, 'name': 'Animation'}, {'id': 35, 'name': 'Comedy'}]\n",
    "3. Assess missing data in each column\n",
    "4. Feature engineering\n",
    "    - Create weighted rating column to account for both vote_count and vote_average\n",
    "    - Process poster images to identify darkness and colorfulness of the overall image\n",
    "    - Retrieve information from paragraphs of text\n",
    "    - Convert categorical features into binary values\n",
    "    - Re-encode other non-numeric features\n",
    "5. Assess missing data in each row\n",
    "6. Feature scaling (to be addressed as the first step in machine learning)\n",
    "\n",
    "This notebook is followed by `content_based_recommender.ipynb`, which conducts feature transformations and constructs unsupervised learning algorithms to provide movie recommendations."
   ]
  },
  {
   "cell_type": "code",
   "execution_count": 43,
   "metadata": {},
   "outputs": [],
   "source": [
    "import numpy as np # linear algebra\n",
    "import pandas as pd # data processing, CSV file I/O (e.g. pd.read_csv)\n",
    "from ast import literal_eval\n",
    "import ast\n",
    "import random\n",
    "from skimage import io\n",
    "from wordcloud import WordCloud\n",
    "from nltk.corpus import stopwords\n",
    "from collections import Counter\n",
    "\n",
    "import matplotlib.pyplot as plt\n",
    "import seaborn as sns\n",
    "% matplotlib inline\n",
    "\n",
    "# Input data files are available in the \"../input/\" directory.\n",
    "from subprocess import check_output\n",
    "# print(check_output([\"ls\", \"../Final_Project/Data\"]).decode(\"utf8\"))\n",
    "# Any results you write to the current directory are saved as output.\n",
    "\n",
    "from sklearn.preprocessing import Imputer\n",
    "from sklearn.feature_extraction.text import TfidfVectorizer"
   ]
  },
  {
   "cell_type": "markdown",
   "metadata": {},
   "source": [
    "## 1. Load and merge tables\n",
    "\n",
    "#### Load all the raw data related to the content of movies\n",
    "\n",
    "- `credits.csv`\n",
    "- `keywords.csv`\n",
    "- `movies_metadata.csv`"
   ]
  },
  {
   "cell_type": "code",
   "execution_count": 2,
   "metadata": {},
   "outputs": [
    {
     "name": "stdout",
     "output_type": "stream",
     "text": [
      "movies_metadata.csv:\n",
      "Row, col: (45466, 24)\n",
      "\n",
      "adult                     object\n",
      "belongs_to_collection     object\n",
      "budget                    object\n",
      "genres                    object\n",
      "homepage                  object\n",
      "id                        object\n",
      "imdb_id                   object\n",
      "original_language         object\n",
      "original_title            object\n",
      "overview                  object\n",
      "popularity                object\n",
      "poster_path               object\n",
      "production_companies      object\n",
      "production_countries      object\n",
      "release_date              object\n",
      "revenue                  float64\n",
      "runtime                  float64\n",
      "spoken_languages          object\n",
      "status                    object\n",
      "tagline                   object\n",
      "title                     object\n",
      "video                     object\n",
      "vote_average             float64\n",
      "vote_count               float64\n",
      "dtype: object\n"
     ]
    },
    {
     "name": "stderr",
     "output_type": "stream",
     "text": [
      "/anaconda3/envs/py36/lib/python3.6/site-packages/IPython/core/interactiveshell.py:2785: DtypeWarning: Columns (10) have mixed types. Specify dtype option on import or set low_memory=False.\n",
      "  interactivity=interactivity, compiler=compiler, result=result)\n"
     ]
    },
    {
     "data": {
      "text/html": [
       "<div>\n",
       "<style scoped>\n",
       "    .dataframe tbody tr th:only-of-type {\n",
       "        vertical-align: middle;\n",
       "    }\n",
       "\n",
       "    .dataframe tbody tr th {\n",
       "        vertical-align: top;\n",
       "    }\n",
       "\n",
       "    .dataframe thead th {\n",
       "        text-align: right;\n",
       "    }\n",
       "</style>\n",
       "<table border=\"1\" class=\"dataframe\">\n",
       "  <thead>\n",
       "    <tr style=\"text-align: right;\">\n",
       "      <th></th>\n",
       "      <th>adult</th>\n",
       "      <th>belongs_to_collection</th>\n",
       "      <th>budget</th>\n",
       "      <th>genres</th>\n",
       "      <th>homepage</th>\n",
       "      <th>id</th>\n",
       "      <th>imdb_id</th>\n",
       "      <th>original_language</th>\n",
       "      <th>original_title</th>\n",
       "      <th>overview</th>\n",
       "      <th>...</th>\n",
       "      <th>release_date</th>\n",
       "      <th>revenue</th>\n",
       "      <th>runtime</th>\n",
       "      <th>spoken_languages</th>\n",
       "      <th>status</th>\n",
       "      <th>tagline</th>\n",
       "      <th>title</th>\n",
       "      <th>video</th>\n",
       "      <th>vote_average</th>\n",
       "      <th>vote_count</th>\n",
       "    </tr>\n",
       "  </thead>\n",
       "  <tbody>\n",
       "    <tr>\n",
       "      <th>0</th>\n",
       "      <td>False</td>\n",
       "      <td>{'id': 10194, 'name': 'Toy Story Collection', ...</td>\n",
       "      <td>30000000</td>\n",
       "      <td>[{'id': 16, 'name': 'Animation'}, {'id': 35, '...</td>\n",
       "      <td>http://toystory.disney.com/toy-story</td>\n",
       "      <td>862</td>\n",
       "      <td>tt0114709</td>\n",
       "      <td>en</td>\n",
       "      <td>Toy Story</td>\n",
       "      <td>Led by Woody, Andy's toys live happily in his ...</td>\n",
       "      <td>...</td>\n",
       "      <td>1995-10-30</td>\n",
       "      <td>373554033.0</td>\n",
       "      <td>81.0</td>\n",
       "      <td>[{'iso_639_1': 'en', 'name': 'English'}]</td>\n",
       "      <td>Released</td>\n",
       "      <td>NaN</td>\n",
       "      <td>Toy Story</td>\n",
       "      <td>False</td>\n",
       "      <td>7.7</td>\n",
       "      <td>5415.0</td>\n",
       "    </tr>\n",
       "    <tr>\n",
       "      <th>1</th>\n",
       "      <td>False</td>\n",
       "      <td>NaN</td>\n",
       "      <td>65000000</td>\n",
       "      <td>[{'id': 12, 'name': 'Adventure'}, {'id': 14, '...</td>\n",
       "      <td>NaN</td>\n",
       "      <td>8844</td>\n",
       "      <td>tt0113497</td>\n",
       "      <td>en</td>\n",
       "      <td>Jumanji</td>\n",
       "      <td>When siblings Judy and Peter discover an encha...</td>\n",
       "      <td>...</td>\n",
       "      <td>1995-12-15</td>\n",
       "      <td>262797249.0</td>\n",
       "      <td>104.0</td>\n",
       "      <td>[{'iso_639_1': 'en', 'name': 'English'}, {'iso...</td>\n",
       "      <td>Released</td>\n",
       "      <td>Roll the dice and unleash the excitement!</td>\n",
       "      <td>Jumanji</td>\n",
       "      <td>False</td>\n",
       "      <td>6.9</td>\n",
       "      <td>2413.0</td>\n",
       "    </tr>\n",
       "  </tbody>\n",
       "</table>\n",
       "<p>2 rows × 24 columns</p>\n",
       "</div>"
      ],
      "text/plain": [
       "   adult                              belongs_to_collection    budget  \\\n",
       "0  False  {'id': 10194, 'name': 'Toy Story Collection', ...  30000000   \n",
       "1  False                                                NaN  65000000   \n",
       "\n",
       "                                              genres  \\\n",
       "0  [{'id': 16, 'name': 'Animation'}, {'id': 35, '...   \n",
       "1  [{'id': 12, 'name': 'Adventure'}, {'id': 14, '...   \n",
       "\n",
       "                               homepage    id    imdb_id original_language  \\\n",
       "0  http://toystory.disney.com/toy-story   862  tt0114709                en   \n",
       "1                                   NaN  8844  tt0113497                en   \n",
       "\n",
       "  original_title                                           overview  \\\n",
       "0      Toy Story  Led by Woody, Andy's toys live happily in his ...   \n",
       "1        Jumanji  When siblings Judy and Peter discover an encha...   \n",
       "\n",
       "     ...     release_date      revenue runtime  \\\n",
       "0    ...       1995-10-30  373554033.0    81.0   \n",
       "1    ...       1995-12-15  262797249.0   104.0   \n",
       "\n",
       "                                    spoken_languages    status  \\\n",
       "0           [{'iso_639_1': 'en', 'name': 'English'}]  Released   \n",
       "1  [{'iso_639_1': 'en', 'name': 'English'}, {'iso...  Released   \n",
       "\n",
       "                                     tagline      title  video vote_average  \\\n",
       "0                                        NaN  Toy Story  False          7.7   \n",
       "1  Roll the dice and unleash the excitement!    Jumanji  False          6.9   \n",
       "\n",
       "  vote_count  \n",
       "0     5415.0  \n",
       "1     2413.0  \n",
       "\n",
       "[2 rows x 24 columns]"
      ]
     },
     "execution_count": 2,
     "metadata": {},
     "output_type": "execute_result"
    }
   ],
   "source": [
    "# Load tables into dataframes\n",
    "PATH = \"Data/\"\n",
    "df_credits = pd.read_csv(PATH+\"credits.csv\")\n",
    "df_keywords = pd.read_csv(PATH+\"keywords.csv\")\n",
    "df = pd.read_csv(PATH+\"movies_metadata.csv\")\n",
    "\n",
    "# Preview metadata\n",
    "print(\"movies_metadata.csv:\")\n",
    "print(f\"Row, col: {df.shape}\\n\")\n",
    "print(df.dtypes)\n",
    "df.head(2)"
   ]
  },
  {
   "cell_type": "code",
   "execution_count": 3,
   "metadata": {},
   "outputs": [
    {
     "name": "stdout",
     "output_type": "stream",
     "text": [
      "credits.csv:\n",
      "Row, col: (45476, 3)\n",
      "\n",
      "cast    object\n",
      "crew    object\n",
      "id       int64\n",
      "dtype: object\n"
     ]
    },
    {
     "data": {
      "text/html": [
       "<div>\n",
       "<style scoped>\n",
       "    .dataframe tbody tr th:only-of-type {\n",
       "        vertical-align: middle;\n",
       "    }\n",
       "\n",
       "    .dataframe tbody tr th {\n",
       "        vertical-align: top;\n",
       "    }\n",
       "\n",
       "    .dataframe thead th {\n",
       "        text-align: right;\n",
       "    }\n",
       "</style>\n",
       "<table border=\"1\" class=\"dataframe\">\n",
       "  <thead>\n",
       "    <tr style=\"text-align: right;\">\n",
       "      <th></th>\n",
       "      <th>cast</th>\n",
       "      <th>crew</th>\n",
       "      <th>id</th>\n",
       "    </tr>\n",
       "  </thead>\n",
       "  <tbody>\n",
       "    <tr>\n",
       "      <th>0</th>\n",
       "      <td>[{'cast_id': 14, 'character': 'Woody (voice)',...</td>\n",
       "      <td>[{'credit_id': '52fe4284c3a36847f8024f49', 'de...</td>\n",
       "      <td>862</td>\n",
       "    </tr>\n",
       "    <tr>\n",
       "      <th>1</th>\n",
       "      <td>[{'cast_id': 1, 'character': 'Alan Parrish', '...</td>\n",
       "      <td>[{'credit_id': '52fe44bfc3a36847f80a7cd1', 'de...</td>\n",
       "      <td>8844</td>\n",
       "    </tr>\n",
       "    <tr>\n",
       "      <th>2</th>\n",
       "      <td>[{'cast_id': 2, 'character': 'Max Goldman', 'c...</td>\n",
       "      <td>[{'credit_id': '52fe466a9251416c75077a89', 'de...</td>\n",
       "      <td>15602</td>\n",
       "    </tr>\n",
       "    <tr>\n",
       "      <th>3</th>\n",
       "      <td>[{'cast_id': 1, 'character': \"Savannah 'Vannah...</td>\n",
       "      <td>[{'credit_id': '52fe44779251416c91011acb', 'de...</td>\n",
       "      <td>31357</td>\n",
       "    </tr>\n",
       "    <tr>\n",
       "      <th>4</th>\n",
       "      <td>[{'cast_id': 1, 'character': 'George Banks', '...</td>\n",
       "      <td>[{'credit_id': '52fe44959251416c75039ed7', 'de...</td>\n",
       "      <td>11862</td>\n",
       "    </tr>\n",
       "  </tbody>\n",
       "</table>\n",
       "</div>"
      ],
      "text/plain": [
       "                                                cast  \\\n",
       "0  [{'cast_id': 14, 'character': 'Woody (voice)',...   \n",
       "1  [{'cast_id': 1, 'character': 'Alan Parrish', '...   \n",
       "2  [{'cast_id': 2, 'character': 'Max Goldman', 'c...   \n",
       "3  [{'cast_id': 1, 'character': \"Savannah 'Vannah...   \n",
       "4  [{'cast_id': 1, 'character': 'George Banks', '...   \n",
       "\n",
       "                                                crew     id  \n",
       "0  [{'credit_id': '52fe4284c3a36847f8024f49', 'de...    862  \n",
       "1  [{'credit_id': '52fe44bfc3a36847f80a7cd1', 'de...   8844  \n",
       "2  [{'credit_id': '52fe466a9251416c75077a89', 'de...  15602  \n",
       "3  [{'credit_id': '52fe44779251416c91011acb', 'de...  31357  \n",
       "4  [{'credit_id': '52fe44959251416c75039ed7', 'de...  11862  "
      ]
     },
     "execution_count": 3,
     "metadata": {},
     "output_type": "execute_result"
    }
   ],
   "source": [
    "# Preview credits\n",
    "print(\"credits.csv:\")\n",
    "print(f\"Row, col: {df_credits.shape}\\n\")\n",
    "print(df_credits.dtypes)\n",
    "df_credits.head()"
   ]
  },
  {
   "cell_type": "code",
   "execution_count": 4,
   "metadata": {},
   "outputs": [
    {
     "name": "stdout",
     "output_type": "stream",
     "text": [
      "keywords.csv:\n",
      "Row, col: (46419, 2)\n",
      "\n",
      "id           int64\n",
      "keywords    object\n",
      "dtype: object\n"
     ]
    },
    {
     "data": {
      "text/html": [
       "<div>\n",
       "<style scoped>\n",
       "    .dataframe tbody tr th:only-of-type {\n",
       "        vertical-align: middle;\n",
       "    }\n",
       "\n",
       "    .dataframe tbody tr th {\n",
       "        vertical-align: top;\n",
       "    }\n",
       "\n",
       "    .dataframe thead th {\n",
       "        text-align: right;\n",
       "    }\n",
       "</style>\n",
       "<table border=\"1\" class=\"dataframe\">\n",
       "  <thead>\n",
       "    <tr style=\"text-align: right;\">\n",
       "      <th></th>\n",
       "      <th>id</th>\n",
       "      <th>keywords</th>\n",
       "    </tr>\n",
       "  </thead>\n",
       "  <tbody>\n",
       "    <tr>\n",
       "      <th>0</th>\n",
       "      <td>862</td>\n",
       "      <td>[{'id': 931, 'name': 'jealousy'}, {'id': 4290,...</td>\n",
       "    </tr>\n",
       "    <tr>\n",
       "      <th>1</th>\n",
       "      <td>8844</td>\n",
       "      <td>[{'id': 10090, 'name': 'board game'}, {'id': 1...</td>\n",
       "    </tr>\n",
       "    <tr>\n",
       "      <th>2</th>\n",
       "      <td>15602</td>\n",
       "      <td>[{'id': 1495, 'name': 'fishing'}, {'id': 12392...</td>\n",
       "    </tr>\n",
       "    <tr>\n",
       "      <th>3</th>\n",
       "      <td>31357</td>\n",
       "      <td>[{'id': 818, 'name': 'based on novel'}, {'id':...</td>\n",
       "    </tr>\n",
       "    <tr>\n",
       "      <th>4</th>\n",
       "      <td>11862</td>\n",
       "      <td>[{'id': 1009, 'name': 'baby'}, {'id': 1599, 'n...</td>\n",
       "    </tr>\n",
       "  </tbody>\n",
       "</table>\n",
       "</div>"
      ],
      "text/plain": [
       "      id                                           keywords\n",
       "0    862  [{'id': 931, 'name': 'jealousy'}, {'id': 4290,...\n",
       "1   8844  [{'id': 10090, 'name': 'board game'}, {'id': 1...\n",
       "2  15602  [{'id': 1495, 'name': 'fishing'}, {'id': 12392...\n",
       "3  31357  [{'id': 818, 'name': 'based on novel'}, {'id':...\n",
       "4  11862  [{'id': 1009, 'name': 'baby'}, {'id': 1599, 'n..."
      ]
     },
     "execution_count": 4,
     "metadata": {},
     "output_type": "execute_result"
    }
   ],
   "source": [
    "# Preview keywords\n",
    "print(\"keywords.csv:\")\n",
    "print(f\"Row, col: {df_keywords.shape}\\n\")\n",
    "print(df_keywords.dtypes)\n",
    "df_keywords.head()"
   ]
  },
  {
   "cell_type": "markdown",
   "metadata": {},
   "source": [
    "#### Assess keys for relational join\n",
    "\n",
    "From above, `id` column in each dataframe is the key to perform relational join"
   ]
  },
  {
   "cell_type": "code",
   "execution_count": 5,
   "metadata": {},
   "outputs": [
    {
     "name": "stdout",
     "output_type": "stream",
     "text": [
      "Number of null id in metadata table: 0\n",
      "Number of null id in credits table: 0\n",
      "Number of null id in keywords table: 0\n"
     ]
    }
   ],
   "source": [
    "# Check the number of null id's in each dataframe\n",
    "print(f\"Number of null id in metadata table: {df['id'].isnull().sum()}\")\n",
    "print(f\"Number of null id in credits table: {df_credits['id'].isnull().sum()}\")\n",
    "print(f\"Number of null id in keywords table: {df_keywords['id'].isnull().sum()}\")"
   ]
  },
  {
   "cell_type": "code",
   "execution_count": 6,
   "metadata": {},
   "outputs": [
    {
     "name": "stdout",
     "output_type": "stream",
     "text": [
      "19730    1997-08-20\n",
      "29503    2012-09-29\n",
      "35587    2014-01-01\n",
      "Name: id, dtype: object\n"
     ]
    }
   ],
   "source": [
    "# Find 3 bad id's in metadata table!\n",
    "print (df['id'][pd.to_numeric(df['id'], errors='coerce').isnull()])"
   ]
  },
  {
   "cell_type": "markdown",
   "metadata": {},
   "source": [
    "These are clearly rows with erroneous data. Need to drop these rows."
   ]
  },
  {
   "cell_type": "code",
   "execution_count": 7,
   "metadata": {},
   "outputs": [
    {
     "name": "stdout",
     "output_type": "stream",
     "text": [
      "movies_metadata.csv:\n",
      "Row, col: (45463, 24)\n",
      "\n",
      "id    float64\n",
      "dtype: object\n"
     ]
    }
   ],
   "source": [
    "# Drop rows that have bad id's\n",
    "df[\"id\"] =pd.to_numeric(df['id'], errors='coerce',downcast=\"integer\")\n",
    "# df[\"imdb_id\"] =pd.to_numeric(df['imdb_id'], errors='coerce',downcast=\"integer\")\n",
    "df.dropna(subset=[\"id\"],inplace=True)\n",
    "print(\"movies_metadata.csv:\")\n",
    "print(f\"Row, col: {df.shape}\\n\")\n",
    "print(df[['id']].dtypes)"
   ]
  },
  {
   "cell_type": "markdown",
   "metadata": {},
   "source": [
    "Check whether the id's are unique, aka., no duplicate rows. Then drop duplicate rows if there is any."
   ]
  },
  {
   "cell_type": "code",
   "execution_count": 8,
   "metadata": {},
   "outputs": [
    {
     "name": "stdout",
     "output_type": "stream",
     "text": [
      "Number of unique movie id's in metadata table: 45433\n",
      "Number of unique movie id's in credits table: 45432\n",
      "Number of unique movie id's in keywords table: 45432\n"
     ]
    }
   ],
   "source": [
    "# Check whether there are duplicate rows\n",
    "print(f\"Number of unique movie id's in metadata table: {df['id'].nunique()}\")\n",
    "print(f\"Number of unique movie id's in credits table: {df_credits['id'].nunique()}\")\n",
    "print(f\"Number of unique movie id's in keywords table: {df_keywords['id'].nunique()}\")"
   ]
  },
  {
   "cell_type": "code",
   "execution_count": 9,
   "metadata": {},
   "outputs": [
    {
     "name": "stdout",
     "output_type": "stream",
     "text": [
      "Number of rows in metadata table: 45433\n",
      "Number of rows in credits table: 45432\n",
      "Number of rows in keywords table: 45432\n"
     ]
    }
   ],
   "source": [
    "# Drop duplicate rows in each dataframe\n",
    "df = df.drop_duplicates(subset=['id', 'imdb_id'])\n",
    "df_credits = df_credits.drop_duplicates(subset=['id'])\n",
    "df_keywords = df_keywords.drop_duplicates()\n",
    "print(f\"Number of rows in metadata table: {df.shape[0]}\")\n",
    "print(f\"Number of rows in credits table: {df_credits.shape[0]}\")\n",
    "print(f\"Number of rows in keywords table: {df_keywords.shape[0]}\")"
   ]
  },
  {
   "cell_type": "markdown",
   "metadata": {},
   "source": [
    "#### Merge tables"
   ]
  },
  {
   "cell_type": "code",
   "execution_count": 10,
   "metadata": {},
   "outputs": [
    {
     "name": "stdout",
     "output_type": "stream",
     "text": [
      "Merged movie data:\n",
      "Row, col: (45433, 27)\n",
      "\n"
     ]
    },
    {
     "data": {
      "text/html": [
       "<div>\n",
       "<style scoped>\n",
       "    .dataframe tbody tr th:only-of-type {\n",
       "        vertical-align: middle;\n",
       "    }\n",
       "\n",
       "    .dataframe tbody tr th {\n",
       "        vertical-align: top;\n",
       "    }\n",
       "\n",
       "    .dataframe thead th {\n",
       "        text-align: right;\n",
       "    }\n",
       "</style>\n",
       "<table border=\"1\" class=\"dataframe\">\n",
       "  <thead>\n",
       "    <tr style=\"text-align: right;\">\n",
       "      <th></th>\n",
       "      <th>adult</th>\n",
       "      <th>belongs_to_collection</th>\n",
       "      <th>budget</th>\n",
       "      <th>genres</th>\n",
       "      <th>homepage</th>\n",
       "      <th>id</th>\n",
       "      <th>imdb_id</th>\n",
       "      <th>original_language</th>\n",
       "      <th>original_title</th>\n",
       "      <th>overview</th>\n",
       "      <th>...</th>\n",
       "      <th>spoken_languages</th>\n",
       "      <th>status</th>\n",
       "      <th>tagline</th>\n",
       "      <th>title</th>\n",
       "      <th>video</th>\n",
       "      <th>vote_average</th>\n",
       "      <th>vote_count</th>\n",
       "      <th>cast</th>\n",
       "      <th>crew</th>\n",
       "      <th>keywords</th>\n",
       "    </tr>\n",
       "  </thead>\n",
       "  <tbody>\n",
       "    <tr>\n",
       "      <th>0</th>\n",
       "      <td>False</td>\n",
       "      <td>{'id': 10194, 'name': 'Toy Story Collection', ...</td>\n",
       "      <td>30000000</td>\n",
       "      <td>[{'id': 16, 'name': 'Animation'}, {'id': 35, '...</td>\n",
       "      <td>http://toystory.disney.com/toy-story</td>\n",
       "      <td>862.0</td>\n",
       "      <td>tt0114709</td>\n",
       "      <td>en</td>\n",
       "      <td>Toy Story</td>\n",
       "      <td>Led by Woody, Andy's toys live happily in his ...</td>\n",
       "      <td>...</td>\n",
       "      <td>[{'iso_639_1': 'en', 'name': 'English'}]</td>\n",
       "      <td>Released</td>\n",
       "      <td>NaN</td>\n",
       "      <td>Toy Story</td>\n",
       "      <td>False</td>\n",
       "      <td>7.7</td>\n",
       "      <td>5415.0</td>\n",
       "      <td>[{'cast_id': 14, 'character': 'Woody (voice)',...</td>\n",
       "      <td>[{'credit_id': '52fe4284c3a36847f8024f49', 'de...</td>\n",
       "      <td>[{'id': 931, 'name': 'jealousy'}, {'id': 4290,...</td>\n",
       "    </tr>\n",
       "    <tr>\n",
       "      <th>1</th>\n",
       "      <td>False</td>\n",
       "      <td>NaN</td>\n",
       "      <td>65000000</td>\n",
       "      <td>[{'id': 12, 'name': 'Adventure'}, {'id': 14, '...</td>\n",
       "      <td>NaN</td>\n",
       "      <td>8844.0</td>\n",
       "      <td>tt0113497</td>\n",
       "      <td>en</td>\n",
       "      <td>Jumanji</td>\n",
       "      <td>When siblings Judy and Peter discover an encha...</td>\n",
       "      <td>...</td>\n",
       "      <td>[{'iso_639_1': 'en', 'name': 'English'}, {'iso...</td>\n",
       "      <td>Released</td>\n",
       "      <td>Roll the dice and unleash the excitement!</td>\n",
       "      <td>Jumanji</td>\n",
       "      <td>False</td>\n",
       "      <td>6.9</td>\n",
       "      <td>2413.0</td>\n",
       "      <td>[{'cast_id': 1, 'character': 'Alan Parrish', '...</td>\n",
       "      <td>[{'credit_id': '52fe44bfc3a36847f80a7cd1', 'de...</td>\n",
       "      <td>[{'id': 10090, 'name': 'board game'}, {'id': 1...</td>\n",
       "    </tr>\n",
       "  </tbody>\n",
       "</table>\n",
       "<p>2 rows × 27 columns</p>\n",
       "</div>"
      ],
      "text/plain": [
       "   adult                              belongs_to_collection    budget  \\\n",
       "0  False  {'id': 10194, 'name': 'Toy Story Collection', ...  30000000   \n",
       "1  False                                                NaN  65000000   \n",
       "\n",
       "                                              genres  \\\n",
       "0  [{'id': 16, 'name': 'Animation'}, {'id': 35, '...   \n",
       "1  [{'id': 12, 'name': 'Adventure'}, {'id': 14, '...   \n",
       "\n",
       "                               homepage      id    imdb_id original_language  \\\n",
       "0  http://toystory.disney.com/toy-story   862.0  tt0114709                en   \n",
       "1                                   NaN  8844.0  tt0113497                en   \n",
       "\n",
       "  original_title                                           overview  \\\n",
       "0      Toy Story  Led by Woody, Andy's toys live happily in his ...   \n",
       "1        Jumanji  When siblings Judy and Peter discover an encha...   \n",
       "\n",
       "                         ...                          \\\n",
       "0                        ...                           \n",
       "1                        ...                           \n",
       "\n",
       "                                    spoken_languages    status  \\\n",
       "0           [{'iso_639_1': 'en', 'name': 'English'}]  Released   \n",
       "1  [{'iso_639_1': 'en', 'name': 'English'}, {'iso...  Released   \n",
       "\n",
       "                                     tagline      title  video  vote_average  \\\n",
       "0                                        NaN  Toy Story  False           7.7   \n",
       "1  Roll the dice and unleash the excitement!    Jumanji  False           6.9   \n",
       "\n",
       "   vote_count                                               cast  \\\n",
       "0      5415.0  [{'cast_id': 14, 'character': 'Woody (voice)',...   \n",
       "1      2413.0  [{'cast_id': 1, 'character': 'Alan Parrish', '...   \n",
       "\n",
       "                                                crew  \\\n",
       "0  [{'credit_id': '52fe4284c3a36847f8024f49', 'de...   \n",
       "1  [{'credit_id': '52fe44bfc3a36847f80a7cd1', 'de...   \n",
       "\n",
       "                                            keywords  \n",
       "0  [{'id': 931, 'name': 'jealousy'}, {'id': 4290,...  \n",
       "1  [{'id': 10090, 'name': 'board game'}, {'id': 1...  \n",
       "\n",
       "[2 rows x 27 columns]"
      ]
     },
     "execution_count": 10,
     "metadata": {},
     "output_type": "execute_result"
    }
   ],
   "source": [
    "df = df.merge(df_credits,on=[\"id\"],how=\"left\")\n",
    "df = df.merge(df_keywords,on=[\"id\"],how=\"left\")\n",
    "\n",
    "# Preview merged dataframe\n",
    "print(\"Merged movie data:\")\n",
    "print(f\"Row, col: {df.shape}\\n\")\n",
    "df.head(2)"
   ]
  },
  {
   "cell_type": "markdown",
   "metadata": {},
   "source": [
    "## 2. Clean features that have collections of data\n",
    "\n",
    "e.g., [{'id': 16, 'name': 'Animation'}, {'id': 35, 'name': 'Comedy'}]"
   ]
  },
  {
   "cell_type": "markdown",
   "metadata": {},
   "source": [
    "#### Clean genres column"
   ]
  },
  {
   "cell_type": "code",
   "execution_count": 11,
   "metadata": {},
   "outputs": [
    {
     "data": {
      "text/plain": [
       "\"[{'id': 16, 'name': 'Animation'}, {'id': 35, 'name': 'Comedy'}, {'id': 10751, 'name': 'Family'}]\""
      ]
     },
     "execution_count": 11,
     "metadata": {},
     "output_type": "execute_result"
    }
   ],
   "source": [
    "df['genres'][0]"
   ]
  },
  {
   "cell_type": "code",
   "execution_count": 12,
   "metadata": {},
   "outputs": [
    {
     "data": {
      "text/plain": [
       "0     [Animation, Comedy, Family]\n",
       "1    [Adventure, Fantasy, Family]\n",
       "2               [Romance, Comedy]\n",
       "3        [Comedy, Drama, Romance]\n",
       "4                        [Comedy]\n",
       "Name: genres, dtype: object"
      ]
     },
     "execution_count": 12,
     "metadata": {},
     "output_type": "execute_result"
    }
   ],
   "source": [
    "# Convert genres from list of dictionaries to list of strings\n",
    "df['genres'] = df['genres'].fillna('[]').apply(\n",
    "    literal_eval).apply(lambda x: [i['name'] for i in x] if isinstance(x, list) else [])\n",
    "df['genres'][0:5]"
   ]
  },
  {
   "cell_type": "markdown",
   "metadata": {},
   "source": [
    "#### Clean cast, crew, keywords columns"
   ]
  },
  {
   "cell_type": "code",
   "execution_count": 13,
   "metadata": {},
   "outputs": [
    {
     "data": {
      "text/plain": [
       "cast        [{'cast_id': 14, 'character': 'Woody (voice)',...\n",
       "crew        [{'credit_id': '52fe4284c3a36847f8024f49', 'de...\n",
       "keywords    [{'id': 931, 'name': 'jealousy'}, {'id': 4290,...\n",
       "Name: 0, dtype: object"
      ]
     },
     "execution_count": 13,
     "metadata": {},
     "output_type": "execute_result"
    }
   ],
   "source": [
    "df[['cast', 'crew', 'keywords']].loc[0]"
   ]
  },
  {
   "cell_type": "code",
   "execution_count": 14,
   "metadata": {},
   "outputs": [],
   "source": [
    "# Drop nulls in order to process the list of dictionaries in each cell\n",
    "df.dropna(subset=[\"cast\",\"crew\",\"keywords\",\"popularity\"],inplace=True)"
   ]
  },
  {
   "cell_type": "code",
   "execution_count": 15,
   "metadata": {},
   "outputs": [],
   "source": [
    "# Make the list in each cell accessible\n",
    "df['cast'] = df['cast'].apply(literal_eval)\n",
    "df['crew'] = df['crew'].apply(literal_eval)\n",
    "df['keywords'] = df['keywords'].apply(literal_eval)\n",
    "\n",
    "# Add the size of cast and crew as new features\n",
    "df['cast_size'] = df['cast'].apply(lambda x: len(x))\n",
    "df['crew_size'] = df['crew'].apply(lambda x: len(x))\n",
    "\n",
    "# Convert cast, crew, keywords from list of dictionaries to list of strings\n",
    "df['cast'] = df['cast'].apply(lambda x: [i['name'] for i in x] if isinstance(x, list) else [])\n",
    "df['cast'] = df['cast'].apply(lambda x: x[:3] if len(x) >=3 else x)\n",
    "df['keywords'] = df['keywords'].apply(lambda x: [i['name'] for i in x] if isinstance(x, list) else [])\n",
    "\n",
    "# Extract director from crew as a new feature\n",
    "def get_director(x):\n",
    "    for i in x:\n",
    "        if i['job'] == 'Director':\n",
    "            return i['name']\n",
    "    return np.nan\n",
    "df['director'] = df['crew'].apply(get_director)"
   ]
  },
  {
   "cell_type": "code",
   "execution_count": 16,
   "metadata": {},
   "outputs": [],
   "source": [
    "# Delete crew column because we already retain most of the useful information about the staff of a movie\n",
    "df = df.drop(columns = ['crew'])"
   ]
  },
  {
   "cell_type": "code",
   "execution_count": 17,
   "metadata": {},
   "outputs": [
    {
     "data": {
      "text/html": [
       "<div>\n",
       "<style scoped>\n",
       "    .dataframe tbody tr th:only-of-type {\n",
       "        vertical-align: middle;\n",
       "    }\n",
       "\n",
       "    .dataframe tbody tr th {\n",
       "        vertical-align: top;\n",
       "    }\n",
       "\n",
       "    .dataframe thead th {\n",
       "        text-align: right;\n",
       "    }\n",
       "</style>\n",
       "<table border=\"1\" class=\"dataframe\">\n",
       "  <thead>\n",
       "    <tr style=\"text-align: right;\">\n",
       "      <th></th>\n",
       "      <th>cast</th>\n",
       "      <th>keywords</th>\n",
       "      <th>director</th>\n",
       "      <th>cast_size</th>\n",
       "      <th>crew_size</th>\n",
       "    </tr>\n",
       "  </thead>\n",
       "  <tbody>\n",
       "    <tr>\n",
       "      <th>0</th>\n",
       "      <td>[Tom Hanks, Tim Allen, Don Rickles]</td>\n",
       "      <td>[jealousy, toy, boy, friendship, friends, riva...</td>\n",
       "      <td>John Lasseter</td>\n",
       "      <td>13</td>\n",
       "      <td>106</td>\n",
       "    </tr>\n",
       "    <tr>\n",
       "      <th>1</th>\n",
       "      <td>[Robin Williams, Jonathan Hyde, Kirsten Dunst]</td>\n",
       "      <td>[board game, disappearance, based on children'...</td>\n",
       "      <td>Joe Johnston</td>\n",
       "      <td>26</td>\n",
       "      <td>16</td>\n",
       "    </tr>\n",
       "    <tr>\n",
       "      <th>2</th>\n",
       "      <td>[Walter Matthau, Jack Lemmon, Ann-Margret]</td>\n",
       "      <td>[fishing, best friend, duringcreditsstinger, o...</td>\n",
       "      <td>Howard Deutch</td>\n",
       "      <td>7</td>\n",
       "      <td>4</td>\n",
       "    </tr>\n",
       "    <tr>\n",
       "      <th>3</th>\n",
       "      <td>[Whitney Houston, Angela Bassett, Loretta Devine]</td>\n",
       "      <td>[based on novel, interracial relationship, sin...</td>\n",
       "      <td>Forest Whitaker</td>\n",
       "      <td>10</td>\n",
       "      <td>10</td>\n",
       "    </tr>\n",
       "    <tr>\n",
       "      <th>4</th>\n",
       "      <td>[Steve Martin, Diane Keaton, Martin Short]</td>\n",
       "      <td>[baby, midlife crisis, confidence, aging, daug...</td>\n",
       "      <td>Charles Shyer</td>\n",
       "      <td>12</td>\n",
       "      <td>7</td>\n",
       "    </tr>\n",
       "  </tbody>\n",
       "</table>\n",
       "</div>"
      ],
      "text/plain": [
       "                                                cast  \\\n",
       "0                [Tom Hanks, Tim Allen, Don Rickles]   \n",
       "1     [Robin Williams, Jonathan Hyde, Kirsten Dunst]   \n",
       "2         [Walter Matthau, Jack Lemmon, Ann-Margret]   \n",
       "3  [Whitney Houston, Angela Bassett, Loretta Devine]   \n",
       "4         [Steve Martin, Diane Keaton, Martin Short]   \n",
       "\n",
       "                                            keywords         director  \\\n",
       "0  [jealousy, toy, boy, friendship, friends, riva...    John Lasseter   \n",
       "1  [board game, disappearance, based on children'...     Joe Johnston   \n",
       "2  [fishing, best friend, duringcreditsstinger, o...    Howard Deutch   \n",
       "3  [based on novel, interracial relationship, sin...  Forest Whitaker   \n",
       "4  [baby, midlife crisis, confidence, aging, daug...    Charles Shyer   \n",
       "\n",
       "   cast_size  crew_size  \n",
       "0         13        106  \n",
       "1         26         16  \n",
       "2          7          4  \n",
       "3         10         10  \n",
       "4         12          7  "
      ]
     },
     "execution_count": 17,
     "metadata": {},
     "output_type": "execute_result"
    }
   ],
   "source": [
    "df[['cast', 'keywords', 'director', 'cast_size', 'crew_size']].head()"
   ]
  },
  {
   "cell_type": "markdown",
   "metadata": {},
   "source": [
    "#### Clean production_countries column"
   ]
  },
  {
   "cell_type": "code",
   "execution_count": 18,
   "metadata": {},
   "outputs": [
    {
     "data": {
      "text/plain": [
       "\"[{'iso_3166_1': 'US', 'name': 'United States of America'}]\""
      ]
     },
     "execution_count": 18,
     "metadata": {},
     "output_type": "execute_result"
    }
   ],
   "source": [
    "df['production_countries'][0]"
   ]
  },
  {
   "cell_type": "code",
   "execution_count": 19,
   "metadata": {},
   "outputs": [
    {
     "data": {
      "text/plain": [
       "0    [United States of America]\n",
       "1    [United States of America]\n",
       "2    [United States of America]\n",
       "3    [United States of America]\n",
       "4    [United States of America]\n",
       "Name: production_countries, dtype: object"
      ]
     },
     "execution_count": 19,
     "metadata": {},
     "output_type": "execute_result"
    }
   ],
   "source": [
    "# Convert from list of dictionaries to list of strings\n",
    "df['production_countries'] = df['production_countries'].fillna('[]').apply(ast.literal_eval)\n",
    "df['production_countries'] = df['production_countries'].apply(\n",
    "    lambda x: [i['name'] for i in x] if isinstance(x, list) else [])\n",
    "df['production_countries'].head()"
   ]
  },
  {
   "cell_type": "markdown",
   "metadata": {},
   "source": [
    "#### Clean belongs_to_collection column"
   ]
  },
  {
   "cell_type": "code",
   "execution_count": 20,
   "metadata": {},
   "outputs": [
    {
     "data": {
      "text/plain": [
       "\"{'id': 10194, 'name': 'Toy Story Collection', 'poster_path': '/7G9915LfUQ2lVfwMEEhDsn3kT4B.jpg', 'backdrop_path': '/9FBwqcd9IRruEDUrTdcaafOMKUq.jpg'}\""
      ]
     },
     "execution_count": 20,
     "metadata": {},
     "output_type": "execute_result"
    }
   ],
   "source": [
    "df['belongs_to_collection'][0]"
   ]
  },
  {
   "cell_type": "code",
   "execution_count": 21,
   "metadata": {},
   "outputs": [
    {
     "data": {
      "text/plain": [
       "0              Toy Story Collection\n",
       "1                               NaN\n",
       "2         Grumpy Old Men Collection\n",
       "3                               NaN\n",
       "4    Father of the Bride Collection\n",
       "Name: belongs_to_collection, dtype: object"
      ]
     },
     "execution_count": 21,
     "metadata": {},
     "output_type": "execute_result"
    }
   ],
   "source": [
    "# Convert from list of dictionaries to list of strings\n",
    "df['belongs_to_collection'] = df['belongs_to_collection'].fillna(\"[]\").apply(\n",
    "    ast.literal_eval).apply(lambda x: x['name'] if isinstance(x, dict) else np.nan)\n",
    "df['belongs_to_collection'].head()"
   ]
  },
  {
   "cell_type": "markdown",
   "metadata": {},
   "source": [
    "#### Clean spoken_languages column"
   ]
  },
  {
   "cell_type": "code",
   "execution_count": 22,
   "metadata": {},
   "outputs": [
    {
     "data": {
      "text/plain": [
       "\"[{'iso_639_1': 'en', 'name': 'English'}]\""
      ]
     },
     "execution_count": 22,
     "metadata": {},
     "output_type": "execute_result"
    }
   ],
   "source": [
    "df['spoken_languages'][0]"
   ]
  },
  {
   "cell_type": "code",
   "execution_count": 23,
   "metadata": {},
   "outputs": [
    {
     "data": {
      "text/plain": [
       "0    1\n",
       "1    2\n",
       "2    1\n",
       "3    1\n",
       "4    1\n",
       "Name: spoken_languages, dtype: int64"
      ]
     },
     "execution_count": 23,
     "metadata": {},
     "output_type": "execute_result"
    }
   ],
   "source": [
    "## https://www.kaggle.com/rounakbanik/the-story-of-film\n",
    "df['spoken_languages'] = df['spoken_languages'].fillna('[]').apply(\n",
    "    ast.literal_eval).apply(lambda x: len(x) if isinstance(x, list) else np.nan)\n",
    "df['spoken_languages'].head()"
   ]
  },
  {
   "cell_type": "markdown",
   "metadata": {},
   "source": [
    "#### Clean production_companies column"
   ]
  },
  {
   "cell_type": "code",
   "execution_count": 24,
   "metadata": {},
   "outputs": [
    {
     "data": {
      "text/plain": [
       "\"[{'name': 'Pixar Animation Studios', 'id': 3}]\""
      ]
     },
     "execution_count": 24,
     "metadata": {},
     "output_type": "execute_result"
    }
   ],
   "source": [
    "df['production_companies'][0]"
   ]
  },
  {
   "cell_type": "code",
   "execution_count": 25,
   "metadata": {},
   "outputs": [
    {
     "data": {
      "text/plain": [
       "0                            [Pixar Animation Studios]\n",
       "1    [TriStar Pictures, Teitler Film, Interscope Co...\n",
       "2                       [Warner Bros., Lancaster Gate]\n",
       "3             [Twentieth Century Fox Film Corporation]\n",
       "4         [Sandollar Productions, Touchstone Pictures]\n",
       "Name: production_companies, dtype: object"
      ]
     },
     "execution_count": 25,
     "metadata": {},
     "output_type": "execute_result"
    }
   ],
   "source": [
    "df['production_companies'] = df['production_companies'].apply(ast.literal_eval)\n",
    "df['production_companies'] = df['production_companies'].fillna(\"[]\").apply(\n",
    "    lambda x: [i['name'] for i in x] if isinstance(x, list) else [])\n",
    "df['production_companies'].head()"
   ]
  },
  {
   "cell_type": "code",
   "execution_count": 26,
   "metadata": {},
   "outputs": [
    {
     "name": "stdout",
     "output_type": "stream",
     "text": [
      "Movie data:\n",
      "Row, col: (45429, 29)\n",
      "\n"
     ]
    },
    {
     "data": {
      "text/html": [
       "<div>\n",
       "<style scoped>\n",
       "    .dataframe tbody tr th:only-of-type {\n",
       "        vertical-align: middle;\n",
       "    }\n",
       "\n",
       "    .dataframe tbody tr th {\n",
       "        vertical-align: top;\n",
       "    }\n",
       "\n",
       "    .dataframe thead th {\n",
       "        text-align: right;\n",
       "    }\n",
       "</style>\n",
       "<table border=\"1\" class=\"dataframe\">\n",
       "  <thead>\n",
       "    <tr style=\"text-align: right;\">\n",
       "      <th></th>\n",
       "      <th>adult</th>\n",
       "      <th>belongs_to_collection</th>\n",
       "      <th>budget</th>\n",
       "      <th>genres</th>\n",
       "      <th>homepage</th>\n",
       "      <th>id</th>\n",
       "      <th>imdb_id</th>\n",
       "      <th>original_language</th>\n",
       "      <th>original_title</th>\n",
       "      <th>overview</th>\n",
       "      <th>...</th>\n",
       "      <th>tagline</th>\n",
       "      <th>title</th>\n",
       "      <th>video</th>\n",
       "      <th>vote_average</th>\n",
       "      <th>vote_count</th>\n",
       "      <th>cast</th>\n",
       "      <th>keywords</th>\n",
       "      <th>cast_size</th>\n",
       "      <th>crew_size</th>\n",
       "      <th>director</th>\n",
       "    </tr>\n",
       "  </thead>\n",
       "  <tbody>\n",
       "    <tr>\n",
       "      <th>0</th>\n",
       "      <td>False</td>\n",
       "      <td>Toy Story Collection</td>\n",
       "      <td>30000000</td>\n",
       "      <td>[Animation, Comedy, Family]</td>\n",
       "      <td>http://toystory.disney.com/toy-story</td>\n",
       "      <td>862.0</td>\n",
       "      <td>tt0114709</td>\n",
       "      <td>en</td>\n",
       "      <td>Toy Story</td>\n",
       "      <td>Led by Woody, Andy's toys live happily in his ...</td>\n",
       "      <td>...</td>\n",
       "      <td>NaN</td>\n",
       "      <td>Toy Story</td>\n",
       "      <td>False</td>\n",
       "      <td>7.7</td>\n",
       "      <td>5415.0</td>\n",
       "      <td>[Tom Hanks, Tim Allen, Don Rickles]</td>\n",
       "      <td>[jealousy, toy, boy, friendship, friends, riva...</td>\n",
       "      <td>13</td>\n",
       "      <td>106</td>\n",
       "      <td>John Lasseter</td>\n",
       "    </tr>\n",
       "    <tr>\n",
       "      <th>1</th>\n",
       "      <td>False</td>\n",
       "      <td>NaN</td>\n",
       "      <td>65000000</td>\n",
       "      <td>[Adventure, Fantasy, Family]</td>\n",
       "      <td>NaN</td>\n",
       "      <td>8844.0</td>\n",
       "      <td>tt0113497</td>\n",
       "      <td>en</td>\n",
       "      <td>Jumanji</td>\n",
       "      <td>When siblings Judy and Peter discover an encha...</td>\n",
       "      <td>...</td>\n",
       "      <td>Roll the dice and unleash the excitement!</td>\n",
       "      <td>Jumanji</td>\n",
       "      <td>False</td>\n",
       "      <td>6.9</td>\n",
       "      <td>2413.0</td>\n",
       "      <td>[Robin Williams, Jonathan Hyde, Kirsten Dunst]</td>\n",
       "      <td>[board game, disappearance, based on children'...</td>\n",
       "      <td>26</td>\n",
       "      <td>16</td>\n",
       "      <td>Joe Johnston</td>\n",
       "    </tr>\n",
       "    <tr>\n",
       "      <th>2</th>\n",
       "      <td>False</td>\n",
       "      <td>Grumpy Old Men Collection</td>\n",
       "      <td>0</td>\n",
       "      <td>[Romance, Comedy]</td>\n",
       "      <td>NaN</td>\n",
       "      <td>15602.0</td>\n",
       "      <td>tt0113228</td>\n",
       "      <td>en</td>\n",
       "      <td>Grumpier Old Men</td>\n",
       "      <td>A family wedding reignites the ancient feud be...</td>\n",
       "      <td>...</td>\n",
       "      <td>Still Yelling. Still Fighting. Still Ready for...</td>\n",
       "      <td>Grumpier Old Men</td>\n",
       "      <td>False</td>\n",
       "      <td>6.5</td>\n",
       "      <td>92.0</td>\n",
       "      <td>[Walter Matthau, Jack Lemmon, Ann-Margret]</td>\n",
       "      <td>[fishing, best friend, duringcreditsstinger, o...</td>\n",
       "      <td>7</td>\n",
       "      <td>4</td>\n",
       "      <td>Howard Deutch</td>\n",
       "    </tr>\n",
       "    <tr>\n",
       "      <th>3</th>\n",
       "      <td>False</td>\n",
       "      <td>NaN</td>\n",
       "      <td>16000000</td>\n",
       "      <td>[Comedy, Drama, Romance]</td>\n",
       "      <td>NaN</td>\n",
       "      <td>31357.0</td>\n",
       "      <td>tt0114885</td>\n",
       "      <td>en</td>\n",
       "      <td>Waiting to Exhale</td>\n",
       "      <td>Cheated on, mistreated and stepped on, the wom...</td>\n",
       "      <td>...</td>\n",
       "      <td>Friends are the people who let you be yourself...</td>\n",
       "      <td>Waiting to Exhale</td>\n",
       "      <td>False</td>\n",
       "      <td>6.1</td>\n",
       "      <td>34.0</td>\n",
       "      <td>[Whitney Houston, Angela Bassett, Loretta Devine]</td>\n",
       "      <td>[based on novel, interracial relationship, sin...</td>\n",
       "      <td>10</td>\n",
       "      <td>10</td>\n",
       "      <td>Forest Whitaker</td>\n",
       "    </tr>\n",
       "    <tr>\n",
       "      <th>4</th>\n",
       "      <td>False</td>\n",
       "      <td>Father of the Bride Collection</td>\n",
       "      <td>0</td>\n",
       "      <td>[Comedy]</td>\n",
       "      <td>NaN</td>\n",
       "      <td>11862.0</td>\n",
       "      <td>tt0113041</td>\n",
       "      <td>en</td>\n",
       "      <td>Father of the Bride Part II</td>\n",
       "      <td>Just when George Banks has recovered from his ...</td>\n",
       "      <td>...</td>\n",
       "      <td>Just When His World Is Back To Normal... He's ...</td>\n",
       "      <td>Father of the Bride Part II</td>\n",
       "      <td>False</td>\n",
       "      <td>5.7</td>\n",
       "      <td>173.0</td>\n",
       "      <td>[Steve Martin, Diane Keaton, Martin Short]</td>\n",
       "      <td>[baby, midlife crisis, confidence, aging, daug...</td>\n",
       "      <td>12</td>\n",
       "      <td>7</td>\n",
       "      <td>Charles Shyer</td>\n",
       "    </tr>\n",
       "  </tbody>\n",
       "</table>\n",
       "<p>5 rows × 29 columns</p>\n",
       "</div>"
      ],
      "text/plain": [
       "   adult           belongs_to_collection    budget  \\\n",
       "0  False            Toy Story Collection  30000000   \n",
       "1  False                             NaN  65000000   \n",
       "2  False       Grumpy Old Men Collection         0   \n",
       "3  False                             NaN  16000000   \n",
       "4  False  Father of the Bride Collection         0   \n",
       "\n",
       "                         genres                              homepage  \\\n",
       "0   [Animation, Comedy, Family]  http://toystory.disney.com/toy-story   \n",
       "1  [Adventure, Fantasy, Family]                                   NaN   \n",
       "2             [Romance, Comedy]                                   NaN   \n",
       "3      [Comedy, Drama, Romance]                                   NaN   \n",
       "4                      [Comedy]                                   NaN   \n",
       "\n",
       "        id    imdb_id original_language               original_title  \\\n",
       "0    862.0  tt0114709                en                    Toy Story   \n",
       "1   8844.0  tt0113497                en                      Jumanji   \n",
       "2  15602.0  tt0113228                en             Grumpier Old Men   \n",
       "3  31357.0  tt0114885                en            Waiting to Exhale   \n",
       "4  11862.0  tt0113041                en  Father of the Bride Part II   \n",
       "\n",
       "                                            overview       ...         \\\n",
       "0  Led by Woody, Andy's toys live happily in his ...       ...          \n",
       "1  When siblings Judy and Peter discover an encha...       ...          \n",
       "2  A family wedding reignites the ancient feud be...       ...          \n",
       "3  Cheated on, mistreated and stepped on, the wom...       ...          \n",
       "4  Just when George Banks has recovered from his ...       ...          \n",
       "\n",
       "                                             tagline  \\\n",
       "0                                                NaN   \n",
       "1          Roll the dice and unleash the excitement!   \n",
       "2  Still Yelling. Still Fighting. Still Ready for...   \n",
       "3  Friends are the people who let you be yourself...   \n",
       "4  Just When His World Is Back To Normal... He's ...   \n",
       "\n",
       "                         title  video vote_average vote_count  \\\n",
       "0                    Toy Story  False          7.7     5415.0   \n",
       "1                      Jumanji  False          6.9     2413.0   \n",
       "2             Grumpier Old Men  False          6.5       92.0   \n",
       "3            Waiting to Exhale  False          6.1       34.0   \n",
       "4  Father of the Bride Part II  False          5.7      173.0   \n",
       "\n",
       "                                                cast  \\\n",
       "0                [Tom Hanks, Tim Allen, Don Rickles]   \n",
       "1     [Robin Williams, Jonathan Hyde, Kirsten Dunst]   \n",
       "2         [Walter Matthau, Jack Lemmon, Ann-Margret]   \n",
       "3  [Whitney Houston, Angela Bassett, Loretta Devine]   \n",
       "4         [Steve Martin, Diane Keaton, Martin Short]   \n",
       "\n",
       "                                            keywords  cast_size crew_size  \\\n",
       "0  [jealousy, toy, boy, friendship, friends, riva...         13       106   \n",
       "1  [board game, disappearance, based on children'...         26        16   \n",
       "2  [fishing, best friend, duringcreditsstinger, o...          7         4   \n",
       "3  [based on novel, interracial relationship, sin...         10        10   \n",
       "4  [baby, midlife crisis, confidence, aging, daug...         12         7   \n",
       "\n",
       "          director  \n",
       "0    John Lasseter  \n",
       "1     Joe Johnston  \n",
       "2    Howard Deutch  \n",
       "3  Forest Whitaker  \n",
       "4    Charles Shyer  \n",
       "\n",
       "[5 rows x 29 columns]"
      ]
     },
     "execution_count": 26,
     "metadata": {},
     "output_type": "execute_result"
    }
   ],
   "source": [
    "print(\"Movie data:\")\n",
    "print(f\"Row, col: {df.shape}\\n\")\n",
    "df.head()"
   ]
  },
  {
   "cell_type": "markdown",
   "metadata": {},
   "source": [
    "## 3. Assess missing values in each column"
   ]
  },
  {
   "cell_type": "markdown",
   "metadata": {},
   "source": [
    "#### Replace 0 budget or revenue with NaNs"
   ]
  },
  {
   "cell_type": "code",
   "execution_count": 27,
   "metadata": {},
   "outputs": [],
   "source": [
    "# Convert budget to numeric\n",
    "df['budget'] = pd.to_numeric(df['budget'], errors='coerce')\n",
    "\n",
    "# Replace 0 with NaNs\n",
    "df['budget'] = df['budget'].replace(0, np.nan)\n",
    "df['revenue'] = df['revenue'].replace(0, np.nan)"
   ]
  },
  {
   "cell_type": "markdown",
   "metadata": {},
   "source": [
    "#### Assess missing data in each column"
   ]
  },
  {
   "cell_type": "code",
   "execution_count": 28,
   "metadata": {},
   "outputs": [
    {
     "data": {
      "text/plain": [
       "Text(0.5,1,'Proportion of missing data in each column')"
      ]
     },
     "execution_count": 28,
     "metadata": {},
     "output_type": "execute_result"
    },
    {
     "data": {
      "image/png": "[encoded data removed]",
      "text/plain": [
       "<Figure size 1440x360 with 1 Axes>"
      ]
     },
     "metadata": {},
     "output_type": "display_data"
    }
   ],
   "source": [
    "# Perform an assessment of how much missing data there is in each column of the dataset.\n",
    "missing_col = df.isnull().sum() / len(df.index)\n",
    "missing_col.head()\n",
    "\n",
    "# Investigate patterns in the amount of missing data in each column.\n",
    "missing_col.sort_values(ascending=False).plot.bar(figsize=(20,5))\n",
    "plt.xlabel(\"Column name\")\n",
    "plt.ylabel(\"Proportion of missing data in each column\")\n",
    "plt.title(\"Proportion of missing data in each column\")"
   ]
  },
  {
   "cell_type": "markdown",
   "metadata": {},
   "source": [
    "#### Strategies for the columns with missing values:\n",
    "\n",
    "- `belongs_to_collection` column, convert to dummy variable to represent whether the movie belongs to a collection\n",
    "- `revenue`, `budget`, and `runtime` columns, use imputation to deal with missing values\n",
    "- `homepage` column, convert to dummy variable to represent whether a homepage exists, because the exact homepage url (e.g. 'abc.com' vs. 'bcd.com') should not influence customers choice\n",
    "- `status` column, use only 'released' entries, because we are only interested in released movies for the scope of this project\n",
    "\n",
    "- `tagline` and `overview` columns will be addressed when performing Natural Language Processing (NLP)\n",
    "- `director` column will be addressed when converting director to dummies\n",
    "- `poster path` column will be processed after image processing\n",
    "- `release date` column will be converted to year, month, and day columns"
   ]
  },
  {
   "cell_type": "code",
   "execution_count": 29,
   "metadata": {},
   "outputs": [
    {
     "data": {
      "text/html": [
       "<div>\n",
       "<style scoped>\n",
       "    .dataframe tbody tr th:only-of-type {\n",
       "        vertical-align: middle;\n",
       "    }\n",
       "\n",
       "    .dataframe tbody tr th {\n",
       "        vertical-align: top;\n",
       "    }\n",
       "\n",
       "    .dataframe thead th {\n",
       "        text-align: right;\n",
       "    }\n",
       "</style>\n",
       "<table border=\"1\" class=\"dataframe\">\n",
       "  <thead>\n",
       "    <tr style=\"text-align: right;\">\n",
       "      <th></th>\n",
       "      <th>adult</th>\n",
       "      <th>belongs_to_collection</th>\n",
       "      <th>budget</th>\n",
       "      <th>genres</th>\n",
       "      <th>homepage</th>\n",
       "      <th>id</th>\n",
       "      <th>imdb_id</th>\n",
       "      <th>original_language</th>\n",
       "      <th>original_title</th>\n",
       "      <th>overview</th>\n",
       "      <th>...</th>\n",
       "      <th>tagline</th>\n",
       "      <th>title</th>\n",
       "      <th>video</th>\n",
       "      <th>vote_average</th>\n",
       "      <th>vote_count</th>\n",
       "      <th>cast</th>\n",
       "      <th>keywords</th>\n",
       "      <th>cast_size</th>\n",
       "      <th>crew_size</th>\n",
       "      <th>director</th>\n",
       "    </tr>\n",
       "  </thead>\n",
       "  <tbody>\n",
       "    <tr>\n",
       "      <th>0</th>\n",
       "      <td>False</td>\n",
       "      <td>1</td>\n",
       "      <td>30000000.0</td>\n",
       "      <td>[Animation, Comedy, Family]</td>\n",
       "      <td>1</td>\n",
       "      <td>862.0</td>\n",
       "      <td>tt0114709</td>\n",
       "      <td>en</td>\n",
       "      <td>Toy Story</td>\n",
       "      <td>Led by Woody, Andy's toys live happily in his ...</td>\n",
       "      <td>...</td>\n",
       "      <td>NaN</td>\n",
       "      <td>Toy Story</td>\n",
       "      <td>False</td>\n",
       "      <td>7.7</td>\n",
       "      <td>5415.0</td>\n",
       "      <td>[Tom Hanks, Tim Allen, Don Rickles]</td>\n",
       "      <td>[jealousy, toy, boy, friendship, friends, riva...</td>\n",
       "      <td>13</td>\n",
       "      <td>106</td>\n",
       "      <td>John Lasseter</td>\n",
       "    </tr>\n",
       "    <tr>\n",
       "      <th>1</th>\n",
       "      <td>False</td>\n",
       "      <td>0</td>\n",
       "      <td>65000000.0</td>\n",
       "      <td>[Adventure, Fantasy, Family]</td>\n",
       "      <td>0</td>\n",
       "      <td>8844.0</td>\n",
       "      <td>tt0113497</td>\n",
       "      <td>en</td>\n",
       "      <td>Jumanji</td>\n",
       "      <td>When siblings Judy and Peter discover an encha...</td>\n",
       "      <td>...</td>\n",
       "      <td>Roll the dice and unleash the excitement!</td>\n",
       "      <td>Jumanji</td>\n",
       "      <td>False</td>\n",
       "      <td>6.9</td>\n",
       "      <td>2413.0</td>\n",
       "      <td>[Robin Williams, Jonathan Hyde, Kirsten Dunst]</td>\n",
       "      <td>[board game, disappearance, based on children'...</td>\n",
       "      <td>26</td>\n",
       "      <td>16</td>\n",
       "      <td>Joe Johnston</td>\n",
       "    </tr>\n",
       "    <tr>\n",
       "      <th>2</th>\n",
       "      <td>False</td>\n",
       "      <td>1</td>\n",
       "      <td>8000000.0</td>\n",
       "      <td>[Romance, Comedy]</td>\n",
       "      <td>0</td>\n",
       "      <td>15602.0</td>\n",
       "      <td>tt0113228</td>\n",
       "      <td>en</td>\n",
       "      <td>Grumpier Old Men</td>\n",
       "      <td>A family wedding reignites the ancient feud be...</td>\n",
       "      <td>...</td>\n",
       "      <td>Still Yelling. Still Fighting. Still Ready for...</td>\n",
       "      <td>Grumpier Old Men</td>\n",
       "      <td>False</td>\n",
       "      <td>6.5</td>\n",
       "      <td>92.0</td>\n",
       "      <td>[Walter Matthau, Jack Lemmon, Ann-Margret]</td>\n",
       "      <td>[fishing, best friend, duringcreditsstinger, o...</td>\n",
       "      <td>7</td>\n",
       "      <td>4</td>\n",
       "      <td>Howard Deutch</td>\n",
       "    </tr>\n",
       "    <tr>\n",
       "      <th>3</th>\n",
       "      <td>False</td>\n",
       "      <td>0</td>\n",
       "      <td>16000000.0</td>\n",
       "      <td>[Comedy, Drama, Romance]</td>\n",
       "      <td>0</td>\n",
       "      <td>31357.0</td>\n",
       "      <td>tt0114885</td>\n",
       "      <td>en</td>\n",
       "      <td>Waiting to Exhale</td>\n",
       "      <td>Cheated on, mistreated and stepped on, the wom...</td>\n",
       "      <td>...</td>\n",
       "      <td>Friends are the people who let you be yourself...</td>\n",
       "      <td>Waiting to Exhale</td>\n",
       "      <td>False</td>\n",
       "      <td>6.1</td>\n",
       "      <td>34.0</td>\n",
       "      <td>[Whitney Houston, Angela Bassett, Loretta Devine]</td>\n",
       "      <td>[based on novel, interracial relationship, sin...</td>\n",
       "      <td>10</td>\n",
       "      <td>10</td>\n",
       "      <td>Forest Whitaker</td>\n",
       "    </tr>\n",
       "    <tr>\n",
       "      <th>4</th>\n",
       "      <td>False</td>\n",
       "      <td>1</td>\n",
       "      <td>8000000.0</td>\n",
       "      <td>[Comedy]</td>\n",
       "      <td>0</td>\n",
       "      <td>11862.0</td>\n",
       "      <td>tt0113041</td>\n",
       "      <td>en</td>\n",
       "      <td>Father of the Bride Part II</td>\n",
       "      <td>Just when George Banks has recovered from his ...</td>\n",
       "      <td>...</td>\n",
       "      <td>Just When His World Is Back To Normal... He's ...</td>\n",
       "      <td>Father of the Bride Part II</td>\n",
       "      <td>False</td>\n",
       "      <td>5.7</td>\n",
       "      <td>173.0</td>\n",
       "      <td>[Steve Martin, Diane Keaton, Martin Short]</td>\n",
       "      <td>[baby, midlife crisis, confidence, aging, daug...</td>\n",
       "      <td>12</td>\n",
       "      <td>7</td>\n",
       "      <td>Charles Shyer</td>\n",
       "    </tr>\n",
       "  </tbody>\n",
       "</table>\n",
       "<p>5 rows × 28 columns</p>\n",
       "</div>"
      ],
      "text/plain": [
       "   adult  belongs_to_collection      budget                        genres  \\\n",
       "0  False                      1  30000000.0   [Animation, Comedy, Family]   \n",
       "1  False                      0  65000000.0  [Adventure, Fantasy, Family]   \n",
       "2  False                      1   8000000.0             [Romance, Comedy]   \n",
       "3  False                      0  16000000.0      [Comedy, Drama, Romance]   \n",
       "4  False                      1   8000000.0                      [Comedy]   \n",
       "\n",
       "   homepage       id    imdb_id original_language  \\\n",
       "0         1    862.0  tt0114709                en   \n",
       "1         0   8844.0  tt0113497                en   \n",
       "2         0  15602.0  tt0113228                en   \n",
       "3         0  31357.0  tt0114885                en   \n",
       "4         0  11862.0  tt0113041                en   \n",
       "\n",
       "                original_title  \\\n",
       "0                    Toy Story   \n",
       "1                      Jumanji   \n",
       "2             Grumpier Old Men   \n",
       "3            Waiting to Exhale   \n",
       "4  Father of the Bride Part II   \n",
       "\n",
       "                                            overview       ...         \\\n",
       "0  Led by Woody, Andy's toys live happily in his ...       ...          \n",
       "1  When siblings Judy and Peter discover an encha...       ...          \n",
       "2  A family wedding reignites the ancient feud be...       ...          \n",
       "3  Cheated on, mistreated and stepped on, the wom...       ...          \n",
       "4  Just when George Banks has recovered from his ...       ...          \n",
       "\n",
       "                                             tagline  \\\n",
       "0                                                NaN   \n",
       "1          Roll the dice and unleash the excitement!   \n",
       "2  Still Yelling. Still Fighting. Still Ready for...   \n",
       "3  Friends are the people who let you be yourself...   \n",
       "4  Just When His World Is Back To Normal... He's ...   \n",
       "\n",
       "                         title  video vote_average vote_count  \\\n",
       "0                    Toy Story  False          7.7     5415.0   \n",
       "1                      Jumanji  False          6.9     2413.0   \n",
       "2             Grumpier Old Men  False          6.5       92.0   \n",
       "3            Waiting to Exhale  False          6.1       34.0   \n",
       "4  Father of the Bride Part II  False          5.7      173.0   \n",
       "\n",
       "                                                cast  \\\n",
       "0                [Tom Hanks, Tim Allen, Don Rickles]   \n",
       "1     [Robin Williams, Jonathan Hyde, Kirsten Dunst]   \n",
       "2         [Walter Matthau, Jack Lemmon, Ann-Margret]   \n",
       "3  [Whitney Houston, Angela Bassett, Loretta Devine]   \n",
       "4         [Steve Martin, Diane Keaton, Martin Short]   \n",
       "\n",
       "                                            keywords  cast_size crew_size  \\\n",
       "0  [jealousy, toy, boy, friendship, friends, riva...         13       106   \n",
       "1  [board game, disappearance, based on children'...         26        16   \n",
       "2  [fishing, best friend, duringcreditsstinger, o...          7         4   \n",
       "3  [based on novel, interracial relationship, sin...         10        10   \n",
       "4  [baby, midlife crisis, confidence, aging, daug...         12         7   \n",
       "\n",
       "          director  \n",
       "0    John Lasseter  \n",
       "1     Joe Johnston  \n",
       "2    Howard Deutch  \n",
       "3  Forest Whitaker  \n",
       "4    Charles Shyer  \n",
       "\n",
       "[5 rows x 28 columns]"
      ]
     },
     "execution_count": 29,
     "metadata": {},
     "output_type": "execute_result"
    }
   ],
   "source": [
    "# Impute `revenue` and `budget` by each column's median\n",
    "df_clean_col = df\n",
    "imp = Imputer(missing_values='NaN', strategy='median', axis=0)\n",
    "df_clean_col[['revenue', 'budget', 'runtime']] = imp.fit_transform(df_clean_col[['revenue', 'budget', 'runtime']])\n",
    "\n",
    "# Convert `homepage` to dummies (has a homepage: 1, no homepage: 0)\n",
    "df_clean_col['homepage'] = (df_clean_col['homepage'].isnull())*-1+1\n",
    "\n",
    "# Convert `belongs_to_collection` to dummies (belongs to a collection: 1, no collection: 0)\n",
    "df_clean_col['belongs_to_collection'] = (df_clean_col['belongs_to_collection'].isnull())*-1+1\n",
    "\n",
    "# Use only released movies in this project, select released `status`\n",
    "df_clean_col = df_clean_col.loc[df_clean_col['status']=='Released']\n",
    "df_clean_col = df_clean_col.drop(columns=['status'])\n",
    "df_clean_col.head()"
   ]
  },
  {
   "cell_type": "code",
   "execution_count": 30,
   "metadata": {},
   "outputs": [
    {
     "data": {
      "text/plain": [
       "adult                     object\n",
       "belongs_to_collection      int64\n",
       "budget                   float64\n",
       "genres                    object\n",
       "homepage                   int64\n",
       "id                       float64\n",
       "imdb_id                   object\n",
       "original_language         object\n",
       "original_title            object\n",
       "overview                  object\n",
       "popularity                object\n",
       "poster_path               object\n",
       "production_companies      object\n",
       "production_countries      object\n",
       "release_date              object\n",
       "revenue                  float64\n",
       "runtime                  float64\n",
       "spoken_languages           int64\n",
       "tagline                   object\n",
       "title                     object\n",
       "video                     object\n",
       "vote_average             float64\n",
       "vote_count               float64\n",
       "cast                      object\n",
       "keywords                  object\n",
       "cast_size                  int64\n",
       "crew_size                  int64\n",
       "director                  object\n",
       "dtype: object"
      ]
     },
     "execution_count": 30,
     "metadata": {},
     "output_type": "execute_result"
    }
   ],
   "source": [
    "# Column data types\n",
    "df_clean_col.dtypes"
   ]
  },
  {
   "cell_type": "markdown",
   "metadata": {},
   "source": [
    "#### Plans on non-numeric columns:\n",
    "\n",
    "Columns for feature engineering\n",
    "\n",
    "- `adult` and `video`: conver False/True to 0 and 1\n",
    "- `genres`, `director`, `original_language`, `production_companies`, `production_countries`, `cast`, `keywords`: convert to dummies\n",
    "- `tagline` and `overview`: Natural Language Processing (NLP)\n",
    "- `poster_path`: delete after image processing that generates new columns on darkness and colorfulness\n",
    "- `release_date`: convert to year, month, and day columns\n",
    "\n",
    "Columns not needed in machine learning step\n",
    "\n",
    "- `id`, `imdb_id`, `original_title`, `title`: delete after all feature engineering before feature scaling"
   ]
  },
  {
   "cell_type": "markdown",
   "metadata": {},
   "source": [
    "## 4. Feature engineering\n",
    "\n",
    "- Create weighted rating column to account for both vote_count and vote_average\n",
    "- Process poster images to identify darkness and colorfulness of the overall image\n",
    "- Retrieve information from paragraphs of text\n",
    "- Convert categorical features into binary values\n",
    "- Re-encode other non-numeric features"
   ]
  },
  {
   "cell_type": "markdown",
   "metadata": {},
   "source": [
    "### 4.1. Create weighted rating column\n",
    "\n",
    "Note that neither `vote_count` nor `vote_average` alone is perfect representation of how well-received a movie is. Therefore, we create a new feature to represent weighted ratings based on these 2 columns."
   ]
  },
  {
   "cell_type": "code",
   "execution_count": 31,
   "metadata": {},
   "outputs": [],
   "source": [
    "df4 = df_clean_col\n",
    "\n",
    "# Calculate weighted ratings from vote_count and vote_average columns\n",
    "vote_counts = df4[df4['vote_count'].notnull()]['vote_count'].astype('int')\n",
    "vote_averages = df4[df4['vote_average'].notnull()]['vote_average'].astype('int')\n",
    "C = vote_averages.mean()\n",
    "m = vote_counts.quantile(0.75)\n",
    "\n",
    "def weighted_rating(x):\n",
    "    v = x['vote_count']+1 # added +1 - Dan\n",
    "    R = x['vote_average']\n",
    "    return (v/(v+m) * R) + (m/(m+v) * C)\n",
    "\n",
    "df4['weighted_rating'] = df4.apply(weighted_rating, axis=1)"
   ]
  },
  {
   "cell_type": "code",
   "execution_count": null,
   "metadata": {},
   "outputs": [],
   "source": [
    "# Save checkpoint\n",
    "df4.to_csv(\"Data/data_cleaning_41.csv\", index=False)"
   ]
  },
  {
   "cell_type": "markdown",
   "metadata": {},
   "source": [
    "### 4.2. Process poster images to identify darkness and colorfulness of the overall image"
   ]
  },
  {
   "cell_type": "markdown",
   "metadata": {},
   "source": [
    "The goal here is to represent darkness and colorfulness in a quantitative and consistent manner. The method we used here is both able to yield meaningful results and easy to implement:\n",
    "\n",
    "- **Darkness**: we use the average of RGB values within the entire image as a first-order representation of overall darkness of an image\n",
    "- **Colorfulness**: we first calculate the variance of R, G, and B respectively within the entire image, and then take an average of the 3 variances. This avoids accounting for the internal variability of R, G, and B of a single pixle."
   ]
  },
  {
   "cell_type": "markdown",
   "metadata": {},
   "source": [
    "Because fetching image data from image urls takes time, we process this step in a separate notebook [`process_images.ipynb`](process_images.ipynb), which returns the same dataframe with darkness and colorfulness columns."
   ]
  },
  {
   "cell_type": "code",
   "execution_count": 34,
   "metadata": {},
   "outputs": [],
   "source": [
    "# Load checkpoint from process_images.ipynb\n",
    "df4 = pd.read_csv(\"Data/data_cleaning_42.csv\")"
   ]
  },
  {
   "cell_type": "code",
   "execution_count": 35,
   "metadata": {},
   "outputs": [],
   "source": [
    "# Impute missing values for columns darkness and colorfulness using the mean\n",
    "imp = Imputer(missing_values='NaN', strategy='mean', axis=0)\n",
    "df4[['darkness', 'colorfulness']] = imp.fit_transform(\n",
    "    df4[['darkness', 'colorfulness']])"
   ]
  },
  {
   "cell_type": "markdown",
   "metadata": {},
   "source": [
    "### 4.3. Retrieve information from paragraphs of text"
   ]
  },
  {
   "cell_type": "markdown",
   "metadata": {},
   "source": [
    "#### Process movie overview and tagline text using natural language processing (NLP)"
   ]
  },
  {
   "cell_type": "code",
   "execution_count": 36,
   "metadata": {},
   "outputs": [
    {
     "data": {
      "text/plain": [
       "0    Led by Woody, Andy's toys live happily in his ...\n",
       "1    When siblings Judy and Peter discover an encha...\n",
       "2    A family wedding reignites the ancient feud be...\n",
       "3    Cheated on, mistreated and stepped on, the wom...\n",
       "4    Just when George Banks has recovered from his ...\n",
       "Name: description, dtype: object"
      ]
     },
     "execution_count": 36,
     "metadata": {},
     "output_type": "execute_result"
    }
   ],
   "source": [
    "# Treat overview and tagline together\n",
    "df4['description'] = df4['overview'].fillna('') + df4['tagline'].fillna('')\n",
    "df4['description'].head()"
   ]
  },
  {
   "cell_type": "code",
   "execution_count": 37,
   "metadata": {},
   "outputs": [
    {
     "name": "stdout",
     "output_type": "stream",
     "text": [
      "Row, col: (44984, 100)\n"
     ]
    }
   ],
   "source": [
    "# build a vocabulary that only consider the top 100 ordered by term frequency across the corpus, \n",
    "# composed by the main unigrams and bigrams found in the corpus, \n",
    "# ignoring stopwords\n",
    "vectorizer = TfidfVectorizer(analyzer='word',\n",
    "                     ngram_range=(1, 2),\n",
    "                     max_features=100,\n",
    "                     stop_words='english')\n",
    "\n",
    "tfidf_matrix = vectorizer.fit_transform(df4['description'])\n",
    "tfidf_feature_names = vectorizer.get_feature_names()\n",
    "\n",
    "# Sanity check\n",
    "print(f'Row, col: {tfidf_matrix.shape}')"
   ]
  },
  {
   "cell_type": "code",
   "execution_count": 38,
   "metadata": {},
   "outputs": [
    {
     "name": "stdout",
     "output_type": "stream",
     "text": [
      "Row, col: (44984, 129)\n"
     ]
    },
    {
     "data": {
      "text/html": [
       "<div>\n",
       "<style scoped>\n",
       "    .dataframe tbody tr th:only-of-type {\n",
       "        vertical-align: middle;\n",
       "    }\n",
       "\n",
       "    .dataframe tbody tr th {\n",
       "        vertical-align: top;\n",
       "    }\n",
       "\n",
       "    .dataframe thead th {\n",
       "        text-align: right;\n",
       "    }\n",
       "</style>\n",
       "<table border=\"1\" class=\"dataframe\">\n",
       "  <thead>\n",
       "    <tr style=\"text-align: right;\">\n",
       "      <th></th>\n",
       "      <th>overview_american</th>\n",
       "      <th>overview_away</th>\n",
       "      <th>overview_based</th>\n",
       "      <th>overview_beautiful</th>\n",
       "      <th>overview_begins</th>\n",
       "      <th>overview_best</th>\n",
       "      <th>overview_big</th>\n",
       "      <th>overview_boy</th>\n",
       "      <th>overview_brother</th>\n",
       "      <th>overview_children</th>\n",
       "      <th>...</th>\n",
       "      <th>vote_average</th>\n",
       "      <th>vote_count</th>\n",
       "      <th>cast</th>\n",
       "      <th>keywords</th>\n",
       "      <th>cast_size</th>\n",
       "      <th>crew_size</th>\n",
       "      <th>director</th>\n",
       "      <th>weighted_rating</th>\n",
       "      <th>darkness</th>\n",
       "      <th>colorfulness</th>\n",
       "    </tr>\n",
       "  </thead>\n",
       "  <tbody>\n",
       "    <tr>\n",
       "      <th>0</th>\n",
       "      <td>0.0</td>\n",
       "      <td>0.0</td>\n",
       "      <td>0.0</td>\n",
       "      <td>0.0</td>\n",
       "      <td>0.0</td>\n",
       "      <td>0.0</td>\n",
       "      <td>0.0</td>\n",
       "      <td>0.0</td>\n",
       "      <td>0.0</td>\n",
       "      <td>0.0</td>\n",
       "      <td>...</td>\n",
       "      <td>7.7</td>\n",
       "      <td>5415.0</td>\n",
       "      <td>['Tom Hanks', 'Tim Allen', 'Don Rickles']</td>\n",
       "      <td>['jealousy', 'toy', 'boy', 'friendship', 'frie...</td>\n",
       "      <td>13</td>\n",
       "      <td>106</td>\n",
       "      <td>John Lasseter</td>\n",
       "      <td>7.684269</td>\n",
       "      <td>118.188424</td>\n",
       "      <td>5680.062732</td>\n",
       "    </tr>\n",
       "    <tr>\n",
       "      <th>1</th>\n",
       "      <td>0.0</td>\n",
       "      <td>0.0</td>\n",
       "      <td>0.0</td>\n",
       "      <td>0.0</td>\n",
       "      <td>0.0</td>\n",
       "      <td>0.0</td>\n",
       "      <td>0.0</td>\n",
       "      <td>0.0</td>\n",
       "      <td>0.0</td>\n",
       "      <td>0.0</td>\n",
       "      <td>...</td>\n",
       "      <td>6.9</td>\n",
       "      <td>2413.0</td>\n",
       "      <td>['Robin Williams', 'Jonathan Hyde', 'Kirsten D...</td>\n",
       "      <td>['board game', 'disappearance', \"based on chil...</td>\n",
       "      <td>26</td>\n",
       "      <td>16</td>\n",
       "      <td>Joe Johnston</td>\n",
       "      <td>6.876419</td>\n",
       "      <td>135.582449</td>\n",
       "      <td>6434.488365</td>\n",
       "    </tr>\n",
       "  </tbody>\n",
       "</table>\n",
       "<p>2 rows × 129 columns</p>\n",
       "</div>"
      ],
      "text/plain": [
       "   overview_american  overview_away  overview_based  overview_beautiful  \\\n",
       "0                0.0            0.0             0.0                 0.0   \n",
       "1                0.0            0.0             0.0                 0.0   \n",
       "\n",
       "   overview_begins  overview_best  overview_big  overview_boy  \\\n",
       "0              0.0            0.0           0.0           0.0   \n",
       "1              0.0            0.0           0.0           0.0   \n",
       "\n",
       "   overview_brother  overview_children      ...       vote_average  \\\n",
       "0               0.0                0.0      ...                7.7   \n",
       "1               0.0                0.0      ...                6.9   \n",
       "\n",
       "   vote_count                                               cast  \\\n",
       "0      5415.0          ['Tom Hanks', 'Tim Allen', 'Don Rickles']   \n",
       "1      2413.0  ['Robin Williams', 'Jonathan Hyde', 'Kirsten D...   \n",
       "\n",
       "                                            keywords  cast_size  crew_size  \\\n",
       "0  ['jealousy', 'toy', 'boy', 'friendship', 'frie...         13        106   \n",
       "1  ['board game', 'disappearance', \"based on chil...         26         16   \n",
       "\n",
       "        director  weighted_rating    darkness  colorfulness  \n",
       "0  John Lasseter         7.684269  118.188424   5680.062732  \n",
       "1   Joe Johnston         6.876419  135.582449   6434.488365  \n",
       "\n",
       "[2 rows x 129 columns]"
      ]
     },
     "execution_count": 38,
     "metadata": {},
     "output_type": "execute_result"
    }
   ],
   "source": [
    "# Create dataframe out of the tfidf matrix\n",
    "sdf = pd.DataFrame(data = tfidf_matrix.toarray(), \n",
    "                   columns=['overview_'+word for word in tfidf_feature_names]).fillna(0)\n",
    "sdf[df4.columns.tolist()] = df4\n",
    "\n",
    "# Drop overview, tagline, and description columns because they are already vectorized with NLP\n",
    "sdf = sdf.drop(columns=['description', 'overview', 'tagline'])\n",
    "print(f'Row, col: {sdf.shape}')\n",
    "sdf.head(2)"
   ]
  },
  {
   "cell_type": "markdown",
   "metadata": {},
   "source": [
    "#### Visualize the most frequent words in movie's overview text"
   ]
  },
  {
   "cell_type": "code",
   "execution_count": 39,
   "metadata": {},
   "outputs": [],
   "source": [
    "stopwords_list = stopwords.words('english')\n",
    "\n",
    "# Prepare the pool of text for the word cloud\n",
    "df_descriptions = df4['overview'].fillna('') + ' ' + df4['tagline'].fillna('')\n",
    "text = ' '.join(df_descriptions)"
   ]
  },
  {
   "cell_type": "code",
   "execution_count": 40,
   "metadata": {},
   "outputs": [
    {
     "data": {
      "image/png": "[encoded data removed]",
      "text/plain": [
       "<Figure size 576x432 with 1 Axes>"
      ]
     },
     "metadata": {},
     "output_type": "display_data"
    }
   ],
   "source": [
    "# Create a list of word\n",
    "wc = WordCloud(\n",
    "#     background_color=\"white\", \n",
    "#     max_words=2000, \n",
    "    colormap=\"Blues\",\n",
    "    width=800, \n",
    "    height=600, \n",
    "    stopwords=stopwords_list, \n",
    "#     max_font_size=40, \n",
    "    margin=0, \n",
    "    random_state=42\n",
    ")\n",
    "\n",
    "# Generate word cloud\n",
    "wc.generate(text)\n",
    "\n",
    "# Plot word cloud\n",
    "plt.figure(figsize=(8,6))\n",
    "plt.imshow(wc, interpolation=\"bilinear\")\n",
    "plt.axis(\"off\")\n",
    "plt.margins(x=0, y=0)\n",
    "plt.savefig(\"Figures/word_cloud.png\")"
   ]
  },
  {
   "cell_type": "code",
   "execution_count": 41,
   "metadata": {},
   "outputs": [],
   "source": [
    "# df4 = pd.DataFrame()\n",
    "# df4[sdf.columns.tolist()] = sdf\n",
    "df4 = sdf\n",
    "\n",
    "# Save checkpoint\n",
    "df4.to_csv(\"Data/data_cleaning_43.csv\", index=False)"
   ]
  },
  {
   "cell_type": "markdown",
   "metadata": {},
   "source": [
    "### 4.4 Convert categorical features into binary values"
   ]
  },
  {
   "cell_type": "code",
   "execution_count": 65,
   "metadata": {},
   "outputs": [],
   "source": [
    "# Load checkpoint\n",
    "df4 = pd.read_csv(\"Data/data_cleaning_43.csv\")"
   ]
  },
  {
   "cell_type": "markdown",
   "metadata": {},
   "source": [
    "#### `cast`"
   ]
  },
  {
   "cell_type": "code",
   "execution_count": 66,
   "metadata": {},
   "outputs": [
    {
     "data": {
      "text/plain": [
       "[('John Wayne', 106),\n",
       " ('Jackie Chan', 89),\n",
       " ('Michael Caine', 86),\n",
       " ('Robert De Niro', 84),\n",
       " ('Gérard Depardieu', 82),\n",
       " ('Christopher Lee', 74),\n",
       " ('Nicolas Cage', 71),\n",
       " ('Bette Davis', 68),\n",
       " ('Samuel L. Jackson', 67),\n",
       " ('James Mason', 67),\n",
       " ('Bruce Willis', 64),\n",
       " ('Susan Sarandon', 64),\n",
       " ('Harvey Keitel', 63),\n",
       " ('Donald Sutherland', 63),\n",
       " ('Gene Hackman', 62),\n",
       " ('Jeff Bridges', 61),\n",
       " ('Cary Grant', 61),\n",
       " ('James Stewart', 60),\n",
       " ('Marcello Mastroianni', 59),\n",
       " ('Barbara Stanwyck', 58),\n",
       " ('Robert Mitchum', 58),\n",
       " ('Henry Fonda', 58),\n",
       " ('Catherine Deneuve', 57),\n",
       " ('Anthony Quinn', 57),\n",
       " ('Kirk Douglas', 57),\n",
       " ('Burt Lancaster', 57),\n",
       " ('Morgan Freeman', 56),\n",
       " ('Eric Roberts', 56),\n",
       " ('Alec Baldwin', 55),\n",
       " ('Helen Mirren', 55),\n",
       " ('Paul Newman', 55),\n",
       " ('Burt Reynolds', 55),\n",
       " ('John Cusack', 54),\n",
       " ('Meryl Streep', 54),\n",
       " ('Christopher Walken', 54),\n",
       " ('James Caan', 54),\n",
       " ('Joan Crawford', 54),\n",
       " ('Boris Karloff', 54),\n",
       " ('Vincent Price', 54),\n",
       " ('Tom Hanks', 53),\n",
       " ('Robin Williams', 53),\n",
       " ('Robert Duvall', 53),\n",
       " ('Val Kilmer', 52),\n",
       " ('Anthony Hopkins', 52),\n",
       " ('Sylvester Stallone', 52),\n",
       " ('Malcolm McDowell', 52),\n",
       " ('Willem Dafoe', 52),\n",
       " ('Christopher Plummer', 52),\n",
       " ('Danny Glover', 52),\n",
       " ('Peter Cushing', 52)]"
      ]
     },
     "execution_count": 66,
     "metadata": {},
     "output_type": "execute_result"
    }
   ],
   "source": [
    "# Find top 50 actors who appear most frequently\n",
    "df4['cast'] = df4['cast'].apply(ast.literal_eval)\n",
    "counter = Counter([item for sublist in df4['cast'].values for item in sublist])\n",
    "top_actors = counter.most_common(50)\n",
    "top_actors"
   ]
  },
  {
   "cell_type": "code",
   "execution_count": 67,
   "metadata": {},
   "outputs": [],
   "source": [
    "# For each movie, check whether a top-50 actor appeared\n",
    "for name, count in top_actors:\n",
    "#     print(f\"Adding {name} to column...\")\n",
    "    \n",
    "    for index, row in df4.iterrows():\n",
    "        list_of_names = row['cast']\n",
    "    \n",
    "        if name in list_of_names:\n",
    "            df4['cast_'+name] = 1\n",
    "        else:\n",
    "            df4['cast_'+name] = 0\n",
    "            \n",
    "# Drop the original column\n",
    "df4 = df4.drop(columns=[\"cast\"])"
   ]
  },
  {
   "cell_type": "markdown",
   "metadata": {},
   "source": [
    "#### `genres`"
   ]
  },
  {
   "cell_type": "code",
   "execution_count": 68,
   "metadata": {},
   "outputs": [
    {
     "data": {
      "text/plain": [
       "[('Drama', 20058),\n",
       " ('Comedy', 13073),\n",
       " ('Thriller', 7566),\n",
       " ('Romance', 6663),\n",
       " ('Action', 6542),\n",
       " ('Horror', 4634),\n",
       " ('Crime', 4283),\n",
       " ('Documentary', 3872),\n",
       " ('Adventure', 3468),\n",
       " ('Science Fiction', 3013),\n",
       " ('Family', 2740),\n",
       " ('Mystery', 2453),\n",
       " ('Fantasy', 2290),\n",
       " ('Animation', 1912),\n",
       " ('Music', 1587),\n",
       " ('Foreign', 1586),\n",
       " ('History', 1391),\n",
       " ('War', 1317),\n",
       " ('Western', 1038),\n",
       " ('TV Movie', 758)]"
      ]
     },
     "execution_count": 68,
     "metadata": {},
     "output_type": "execute_result"
    }
   ],
   "source": [
    "# Find top 50 genres which are most poplular\n",
    "df4['genres'] = df4['genres'].apply(ast.literal_eval)\n",
    "counter = Counter([item for sublist in df4['genres'].values for item in sublist])\n",
    "top_genres = counter.most_common(50)\n",
    "top_genres"
   ]
  },
  {
   "cell_type": "code",
   "execution_count": 69,
   "metadata": {},
   "outputs": [],
   "source": [
    "# For each movie, check whether a top-50 genres\n",
    "for name, count in top_genres:\n",
    "#     print(f\"Adding {name} to column...\")\n",
    "    \n",
    "    for index, row in df4.iterrows():\n",
    "        list_of_names = row['genres']\n",
    "    \n",
    "        if name in list_of_names:\n",
    "            df4['genre_'+name] = 1\n",
    "        else:\n",
    "            df4['genre_'+name] = 0\n",
    "            \n",
    "# Drop the original column\n",
    "df4 = df4.drop(columns=[\"genres\"])"
   ]
  },
  {
   "cell_type": "markdown",
   "metadata": {},
   "source": [
    "#### `keywords`"
   ]
  },
  {
   "cell_type": "code",
   "execution_count": 70,
   "metadata": {},
   "outputs": [
    {
     "data": {
      "text/plain": [
       "[('woman director', 3011),\n",
       " ('independent film', 1894),\n",
       " ('murder', 1279),\n",
       " ('based on novel', 815),\n",
       " ('musical', 718),\n",
       " ('sex', 677),\n",
       " ('violence', 646),\n",
       " ('nudity', 628),\n",
       " ('revenge', 616),\n",
       " ('biography', 608),\n",
       " ('suspense', 575),\n",
       " ('love', 560),\n",
       " ('female nudity', 554),\n",
       " ('sport', 528),\n",
       " ('police', 450),\n",
       " ('duringcreditsstinger', 440),\n",
       " ('teenager', 432),\n",
       " ('sequel', 428),\n",
       " ('friendship', 404),\n",
       " ('world war ii', 390),\n",
       " ('drug', 358),\n",
       " ('stand-up comedy', 347),\n",
       " ('prison', 346),\n",
       " ('high school', 313),\n",
       " ('martial arts', 310),\n",
       " ('suicide', 306),\n",
       " ('rape', 303),\n",
       " ('film noir', 301),\n",
       " ('silent film', 301),\n",
       " ('kidnapping', 299),\n",
       " ('family', 289),\n",
       " ('serial killer', 288),\n",
       " ('monster', 277),\n",
       " ('alien', 274),\n",
       " ('dystopia', 268),\n",
       " ('paris', 265),\n",
       " ('new york', 265),\n",
       " ('blood', 262),\n",
       " ('gay', 258),\n",
       " ('short', 254),\n",
       " ('marriage', 252),\n",
       " ('christmas', 249),\n",
       " ('gore', 242),\n",
       " ('gangster', 241),\n",
       " ('death', 241),\n",
       " ('small town', 236),\n",
       " ('zombie', 236),\n",
       " ('detective', 233),\n",
       " ('london england', 231),\n",
       " ('aftercreditsstinger', 231)]"
      ]
     },
     "execution_count": 70,
     "metadata": {},
     "output_type": "execute_result"
    }
   ],
   "source": [
    "# Find top 50 keywords which are most poplular\n",
    "df4['keywords'] = df4['keywords'].apply(ast.literal_eval)\n",
    "counter = Counter([item for sublist in df4['keywords'].values for item in sublist])\n",
    "top_keywords = counter.most_common(50)\n",
    "top_keywords"
   ]
  },
  {
   "cell_type": "code",
   "execution_count": 71,
   "metadata": {},
   "outputs": [
    {
     "name": "stdout",
     "output_type": "stream",
     "text": [
      "50 most popular keywords:\n",
      "Adding woman director to column...\n",
      "Adding independent film to column...\n",
      "Adding murder to column...\n",
      "Adding based on novel to column...\n",
      "Adding musical to column...\n",
      "Adding sex to column...\n",
      "Adding violence to column...\n",
      "Adding nudity to column...\n",
      "Adding revenge to column...\n",
      "Adding biography to column...\n",
      "Adding suspense to column...\n",
      "Adding love to column...\n",
      "Adding female nudity to column...\n",
      "Adding sport to column...\n",
      "Adding police to column...\n",
      "Adding duringcreditsstinger to column...\n",
      "Adding teenager to column...\n",
      "Adding sequel to column...\n",
      "Adding friendship to column...\n",
      "Adding world war ii to column...\n",
      "Adding drug to column...\n",
      "Adding stand-up comedy to column...\n",
      "Adding prison to column...\n",
      "Adding high school to column...\n",
      "Adding martial arts to column...\n",
      "Adding suicide to column...\n",
      "Adding rape to column...\n",
      "Adding film noir to column...\n",
      "Adding silent film to column...\n",
      "Adding kidnapping to column...\n",
      "Adding family to column...\n",
      "Adding serial killer to column...\n",
      "Adding monster to column...\n",
      "Adding alien to column...\n",
      "Adding dystopia to column...\n",
      "Adding paris to column...\n",
      "Adding new york to column...\n",
      "Adding blood to column...\n",
      "Adding gay to column...\n",
      "Adding short to column...\n",
      "Adding marriage to column...\n",
      "Adding christmas to column...\n",
      "Adding gore to column...\n",
      "Adding gangster to column...\n",
      "Adding death to column...\n",
      "Adding small town to column...\n",
      "Adding zombie to column...\n",
      "Adding detective to column...\n",
      "Adding london england to column...\n",
      "Adding aftercreditsstinger to column...\n"
     ]
    }
   ],
   "source": [
    "# For each keyword, check whether a top-50 keywords\n",
    "for name, count in top_keywords:\n",
    "#     print(f\"Adding {name} to column...\")\n",
    "    \n",
    "    for index, row in df4.iterrows():\n",
    "        list_of_names = row['keywords']\n",
    "    \n",
    "        if name in list_of_names:\n",
    "            df4['keyword_'+name] = 1\n",
    "        else:\n",
    "            df4['keyword_'+name] = 0\n",
    "            \n",
    "# Drop the original column\n",
    "df4 = df4.drop(columns=[\"keywords\"])"
   ]
  },
  {
   "cell_type": "markdown",
   "metadata": {},
   "source": [
    "#### `production_countries`"
   ]
  },
  {
   "cell_type": "code",
   "execution_count": 72,
   "metadata": {},
   "outputs": [
    {
     "data": {
      "text/plain": [
       "[('United States of America', 21005),\n",
       " ('United Kingdom', 4074),\n",
       " ('France', 3893),\n",
       " ('Germany', 2235),\n",
       " ('Italy', 2144),\n",
       " ('Canada', 1744),\n",
       " ('Japan', 1638),\n",
       " ('Spain', 956),\n",
       " ('Russia', 903),\n",
       " ('India', 821),\n",
       " ('Hong Kong', 591),\n",
       " ('Sweden', 584),\n",
       " ('Australia', 564),\n",
       " ('South Korea', 493),\n",
       " ('Belgium', 441),\n",
       " ('Denmark', 381),\n",
       " ('Finland', 378),\n",
       " ('China', 370),\n",
       " ('Netherlands', 370),\n",
       " ('Mexico', 327),\n",
       " ('Poland', 313),\n",
       " ('Brazil', 290),\n",
       " ('Switzerland', 251),\n",
       " ('Argentina', 249),\n",
       " ('Ireland', 224),\n",
       " ('Czech Republic', 208),\n",
       " ('Austria', 207),\n",
       " ('Norway', 199),\n",
       " ('Hungary', 168),\n",
       " ('Greece', 167),\n",
       " ('Turkey', 158),\n",
       " ('Israel', 145),\n",
       " ('Romania', 141),\n",
       " ('Taiwan', 128),\n",
       " ('Portugal', 128),\n",
       " ('South Africa', 123),\n",
       " ('New Zealand', 122),\n",
       " ('Thailand', 114),\n",
       " ('Serbia', 105),\n",
       " ('Iran', 100),\n",
       " ('Luxembourg', 87),\n",
       " ('Philippines', 81),\n",
       " ('Croatia', 77),\n",
       " ('Iceland', 66),\n",
       " ('Chile', 66),\n",
       " ('Estonia', 59),\n",
       " ('Bulgaria', 56),\n",
       " ('Ukraine', 55),\n",
       " ('Singapore', 40),\n",
       " ('Lithuania', 36)]"
      ]
     },
     "execution_count": 72,
     "metadata": {},
     "output_type": "execute_result"
    }
   ],
   "source": [
    "# Find top 50 production_countries which are most poplular\n",
    "df4['production_countries'] = df4['production_countries'].apply(ast.literal_eval)\n",
    "counter = Counter([item for sublist in df4['production_countries'].values for item in sublist])\n",
    "top_production_countries = counter.most_common(50)\n",
    "top_production_countries"
   ]
  },
  {
   "cell_type": "code",
   "execution_count": 73,
   "metadata": {},
   "outputs": [
    {
     "name": "stdout",
     "output_type": "stream",
     "text": [
      "United States of America\n",
      "United Kingdom\n",
      "France\n",
      "Germany\n",
      "Italy\n",
      "Canada\n",
      "Japan\n",
      "Spain\n",
      "Russia\n",
      "India\n",
      "Hong Kong\n",
      "Sweden\n",
      "Australia\n",
      "South Korea\n",
      "Belgium\n",
      "Denmark\n",
      "Finland\n",
      "China\n",
      "Netherlands\n",
      "Mexico\n",
      "Poland\n",
      "Brazil\n",
      "Switzerland\n",
      "Argentina\n",
      "Ireland\n",
      "Czech Republic\n",
      "Austria\n",
      "Norway\n",
      "Hungary\n",
      "Greece\n",
      "Turkey\n",
      "Israel\n",
      "Romania\n",
      "Taiwan\n",
      "Portugal\n",
      "South Africa\n",
      "New Zealand\n",
      "Thailand\n",
      "Serbia\n",
      "Iran\n",
      "Luxembourg\n",
      "Philippines\n",
      "Croatia\n",
      "Iceland\n",
      "Chile\n",
      "Estonia\n",
      "Bulgaria\n",
      "Ukraine\n",
      "Singapore\n",
      "Lithuania\n"
     ]
    }
   ],
   "source": [
    "# For each movie, check whether a top-50 production country appeared\n",
    "for name, count in top_production_countries:\n",
    "#     print(f\"Adding {name} to column...\")\n",
    "    \n",
    "    for index, row in df4.iterrows():\n",
    "        list_of_names = row['production_countries']\n",
    "    \n",
    "        if name in list_of_names:\n",
    "            df4['production_country_'+name] = 1\n",
    "        else:\n",
    "            df4['production_country_'+name] = 0\n",
    "\n",
    "# Drop the original column\n",
    "df4 = df4.drop(columns=[\"production_countries\"])"
   ]
  },
  {
   "cell_type": "markdown",
   "metadata": {},
   "source": [
    "#### `production_companies`"
   ]
  },
  {
   "cell_type": "code",
   "execution_count": 74,
   "metadata": {},
   "outputs": [
    {
     "data": {
      "text/plain": [
       "[('Warner Bros.', 1248),\n",
       " ('Metro-Goldwyn-Mayer (MGM)', 1073),\n",
       " ('Paramount Pictures', 996),\n",
       " ('Twentieth Century Fox Film Corporation', 834),\n",
       " ('Universal Pictures', 827),\n",
       " ('Columbia Pictures Corporation', 447),\n",
       " ('Canal+', 433),\n",
       " ('Columbia Pictures', 429),\n",
       " ('RKO Radio Pictures', 290),\n",
       " ('United Artists', 276),\n",
       " ('New Line Cinema', 276),\n",
       " ('Walt Disney Pictures', 262),\n",
       " ('Touchstone Pictures', 224),\n",
       " ('TriStar Pictures', 197),\n",
       " ('Mosfilm', 186),\n",
       " ('Miramax Films', 182),\n",
       " ('France 2 Cinéma', 167),\n",
       " ('Centre National de la Cinématographie (CNC)', 160),\n",
       " ('Toho Company', 141),\n",
       " ('BBC Films', 130),\n",
       " ('Gaumont', 124),\n",
       " ('StudioCanal', 122),\n",
       " ('Relativity Media', 119),\n",
       " ('British Broadcasting Corporation (BBC)', 118),\n",
       " ('TF1 Films Production', 117),\n",
       " ('Walt Disney Productions', 116),\n",
       " ('Orion Pictures', 111),\n",
       " ('Village Roadshow Pictures', 106),\n",
       " ('Regency Enterprises', 105),\n",
       " ('Universal International Pictures (UI)', 97),\n",
       " ('Dimension Films', 96),\n",
       " ('Zweites Deutsches Fernsehen (ZDF)', 96),\n",
       " ('Lionsgate', 95),\n",
       " ('DreamWorks SKG', 95),\n",
       " ('Wild Bunch', 93),\n",
       " ('Fox Searchlight Pictures', 92),\n",
       " ('Hammer Film Productions', 90),\n",
       " ('American International Pictures (AIP)', 88),\n",
       " ('Svensk Filmindustri (SF)', 86),\n",
       " ('Rai Cinema', 86),\n",
       " ('Working Title Films', 85),\n",
       " ('Hollywood Pictures', 84),\n",
       " ('Channel Four Films', 84),\n",
       " ('Shaw Brothers', 83),\n",
       " ('Film i Väst', 80),\n",
       " ('Nordisk Film', 79),\n",
       " ('Film4', 79),\n",
       " ('Lions Gate Films', 79),\n",
       " ('TLA Releasing', 78),\n",
       " ('Castle Rock Entertainment', 77)]"
      ]
     },
     "execution_count": 74,
     "metadata": {},
     "output_type": "execute_result"
    }
   ],
   "source": [
    "# Find top 50 production_companies which are most poplular\n",
    "df4['production_companies'] = df4['production_companies'].apply(ast.literal_eval)\n",
    "counter = Counter([item for sublist in df4['production_companies'].values for item in sublist])\n",
    "top_production_companies = counter.most_common(50)\n",
    "top_production_companies"
   ]
  },
  {
   "cell_type": "code",
   "execution_count": 75,
   "metadata": {},
   "outputs": [
    {
     "name": "stdout",
     "output_type": "stream",
     "text": [
      "Warner Bros.\n",
      "Metro-Goldwyn-Mayer (MGM)\n",
      "Paramount Pictures\n",
      "Twentieth Century Fox Film Corporation\n",
      "Universal Pictures\n",
      "Columbia Pictures Corporation\n",
      "Canal+\n",
      "Columbia Pictures\n",
      "RKO Radio Pictures\n",
      "United Artists\n",
      "New Line Cinema\n",
      "Walt Disney Pictures\n",
      "Touchstone Pictures\n",
      "TriStar Pictures\n",
      "Mosfilm\n",
      "Miramax Films\n",
      "France 2 Cinéma\n",
      "Centre National de la Cinématographie (CNC)\n",
      "Toho Company\n",
      "BBC Films\n",
      "Gaumont\n",
      "StudioCanal\n",
      "Relativity Media\n",
      "British Broadcasting Corporation (BBC)\n",
      "TF1 Films Production\n",
      "Walt Disney Productions\n",
      "Orion Pictures\n",
      "Village Roadshow Pictures\n",
      "Regency Enterprises\n",
      "Universal International Pictures (UI)\n",
      "Dimension Films\n",
      "Zweites Deutsches Fernsehen (ZDF)\n",
      "Lionsgate\n",
      "DreamWorks SKG\n",
      "Wild Bunch\n",
      "Fox Searchlight Pictures\n",
      "Hammer Film Productions\n",
      "American International Pictures (AIP)\n",
      "Svensk Filmindustri (SF)\n",
      "Rai Cinema\n",
      "Working Title Films\n",
      "Hollywood Pictures\n",
      "Channel Four Films\n",
      "Shaw Brothers\n",
      "Film i Väst\n",
      "Nordisk Film\n",
      "Film4\n",
      "Lions Gate Films\n",
      "TLA Releasing\n",
      "Castle Rock Entertainment\n"
     ]
    }
   ],
   "source": [
    "# For each movie, check whether a top-50 actor appeared\n",
    "for name, count in top_production_companies:\n",
    "#     print(f\"Adding {name} to column...\")\n",
    "    \n",
    "    for index, row in df4.iterrows():\n",
    "        list_of_names = row['production_companies']\n",
    "    \n",
    "        if name in list_of_names:\n",
    "            df4['production_company_'+name] = 1\n",
    "        else:\n",
    "            df4['production_company_'+name] = 0\n",
    "            \n",
    "# Drop the original column\n",
    "df4 = df4.drop(columns=[\"production_companies\"])"
   ]
  },
  {
   "cell_type": "markdown",
   "metadata": {},
   "source": [
    "#### `original_language` and `director`"
   ]
  },
  {
   "cell_type": "code",
   "execution_count": 76,
   "metadata": {},
   "outputs": [],
   "source": [
    "# Find directors that appeared less than 10 times\n",
    "director_10_less = df4['director'].value_counts().loc[df4['director'].value_counts()<10]\n",
    "director_10_less_list = director_10_less.index.tolist()\n",
    "\n",
    "# Find original_language that appeared less than 10 times\n",
    "lang_10_less = df4['original_language'].value_counts().loc[df4['original_language'].value_counts()<10]\n",
    "lang_10_less_list = lang_10_less.index.tolist()"
   ]
  },
  {
   "cell_type": "code",
   "execution_count": 77,
   "metadata": {},
   "outputs": [],
   "source": [
    "# One-hot encoding on columns original_language and director\n",
    "df4 = pd.get_dummies(df4, columns=['original_language'])\n",
    "df4 = pd.get_dummies(df4, columns=['director'])"
   ]
  },
  {
   "cell_type": "code",
   "execution_count": 78,
   "metadata": {},
   "outputs": [],
   "source": [
    "# Drop director_... columns for directors who appeared less than 10 times\n",
    "director_column_drop = [\"director_\"+col for col in director_10_less_list]\n",
    "df4 = df4.drop(columns = director_column_drop)\n",
    "\n",
    "# Drop original_language_... columns for original_language that appeared less than 10 times\n",
    "lang_column_drop = [\"original_language_\"+col for col in lang_10_less_list]\n",
    "df4 = df4.drop(columns = lang_column_drop)"
   ]
  },
  {
   "cell_type": "code",
   "execution_count": 79,
   "metadata": {},
   "outputs": [],
   "source": [
    "# Save checkpoint\n",
    "df4.to_csv(\"Data/data_cleaning_44.csv\", index=False)"
   ]
  },
  {
   "cell_type": "markdown",
   "metadata": {},
   "source": [
    "### 4.5. Re-encode other non-numeric features"
   ]
  },
  {
   "cell_type": "markdown",
   "metadata": {},
   "source": [
    "#### Extract date string into year, month, date"
   ]
  },
  {
   "cell_type": "code",
   "execution_count": 80,
   "metadata": {},
   "outputs": [
    {
     "data": {
      "text/plain": [
       "0    1995-10-30\n",
       "1    1995-12-15\n",
       "2    1995-12-22\n",
       "3    1995-12-22\n",
       "4    1995-02-10\n",
       "Name: release_date, dtype: object"
      ]
     },
     "execution_count": 80,
     "metadata": {},
     "output_type": "execute_result"
    }
   ],
   "source": [
    "# Load checkpoint\n",
    "df4 = pd.read_csv(\"Data/data_cleaning_44.csv\")\n",
    "\n",
    "df4[\"release_date\"].head()"
   ]
  },
  {
   "cell_type": "code",
   "execution_count": 81,
   "metadata": {},
   "outputs": [
    {
     "data": {
      "text/html": [
       "<div>\n",
       "<style scoped>\n",
       "    .dataframe tbody tr th:only-of-type {\n",
       "        vertical-align: middle;\n",
       "    }\n",
       "\n",
       "    .dataframe tbody tr th {\n",
       "        vertical-align: top;\n",
       "    }\n",
       "\n",
       "    .dataframe thead th {\n",
       "        text-align: right;\n",
       "    }\n",
       "</style>\n",
       "<table border=\"1\" class=\"dataframe\">\n",
       "  <thead>\n",
       "    <tr style=\"text-align: right;\">\n",
       "      <th></th>\n",
       "      <th>release_year</th>\n",
       "      <th>release_month</th>\n",
       "      <th>release_day</th>\n",
       "    </tr>\n",
       "  </thead>\n",
       "  <tbody>\n",
       "    <tr>\n",
       "      <th>0</th>\n",
       "      <td>1995.0</td>\n",
       "      <td>10.0</td>\n",
       "      <td>30.0</td>\n",
       "    </tr>\n",
       "    <tr>\n",
       "      <th>1</th>\n",
       "      <td>1995.0</td>\n",
       "      <td>12.0</td>\n",
       "      <td>15.0</td>\n",
       "    </tr>\n",
       "    <tr>\n",
       "      <th>2</th>\n",
       "      <td>1995.0</td>\n",
       "      <td>12.0</td>\n",
       "      <td>22.0</td>\n",
       "    </tr>\n",
       "    <tr>\n",
       "      <th>3</th>\n",
       "      <td>1995.0</td>\n",
       "      <td>12.0</td>\n",
       "      <td>22.0</td>\n",
       "    </tr>\n",
       "    <tr>\n",
       "      <th>4</th>\n",
       "      <td>1995.0</td>\n",
       "      <td>2.0</td>\n",
       "      <td>10.0</td>\n",
       "    </tr>\n",
       "  </tbody>\n",
       "</table>\n",
       "</div>"
      ],
      "text/plain": [
       "   release_year  release_month  release_day\n",
       "0        1995.0           10.0         30.0\n",
       "1        1995.0           12.0         15.0\n",
       "2        1995.0           12.0         22.0\n",
       "3        1995.0           12.0         22.0\n",
       "4        1995.0            2.0         10.0"
      ]
     },
     "execution_count": 81,
     "metadata": {},
     "output_type": "execute_result"
    }
   ],
   "source": [
    "# Extract year, month, date from release_date column\n",
    "def to_year(release_date):\n",
    "    try:\n",
    "        output = int(release_date.split('-')[0])\n",
    "    except:\n",
    "        output = np.nan\n",
    "    return output\n",
    "\n",
    "def to_month(release_date):\n",
    "    try:\n",
    "        output = int(release_date.split('-')[1])\n",
    "    except:\n",
    "        output = np.nan\n",
    "    return output\n",
    "\n",
    "def to_date(release_date):\n",
    "    try:\n",
    "        output = int(release_date.split('-')[2])\n",
    "    except:\n",
    "        output = np.nan\n",
    "    return output\n",
    "    \n",
    "df4[\"release_year\"] = df4[\"release_date\"].apply(to_year)\n",
    "df4[\"release_month\"] = df4[\"release_date\"].apply(to_month)\n",
    "df4[\"release_day\"] = df4[\"release_date\"].apply(to_date)\n",
    "\n",
    "# Drop the original release_date column\n",
    "df4 = df4.drop(columns=['release_date'])\n",
    "\n",
    "# Sanity check\n",
    "df4[[\"release_year\", \"release_month\", \"release_day\"]].head()"
   ]
  },
  {
   "cell_type": "code",
   "execution_count": 82,
   "metadata": {},
   "outputs": [],
   "source": [
    "# Impute missing values for columns release_year, release_month, and release_day using the median\n",
    "imp = Imputer(missing_values='NaN', strategy='median', axis=0)\n",
    "df4[['release_year', 'release_month', 'release_day']] = imp.fit_transform(\n",
    "    df4[['release_year', 'release_month', 'release_day']])"
   ]
  },
  {
   "cell_type": "markdown",
   "metadata": {},
   "source": [
    "#### `adult` and `video`: conver False/True to 0 and 1"
   ]
  },
  {
   "cell_type": "code",
   "execution_count": 86,
   "metadata": {},
   "outputs": [
    {
     "data": {
      "text/plain": [
       "adult    int64\n",
       "video     bool\n",
       "dtype: object"
      ]
     },
     "execution_count": 86,
     "metadata": {},
     "output_type": "execute_result"
    }
   ],
   "source": [
    "df4[['adult','video']].dtypes"
   ]
  },
  {
   "cell_type": "code",
   "execution_count": 85,
   "metadata": {},
   "outputs": [
    {
     "data": {
      "text/plain": [
       "0    44976\n",
       "1        8\n",
       "Name: adult, dtype: int64"
      ]
     },
     "execution_count": 85,
     "metadata": {},
     "output_type": "execute_result"
    }
   ],
   "source": [
    "# `adult` column\n",
    "df4['adult'] = df4['adult'].replace({False: 0, True: 1})\n",
    "df4['adult'].value_counts()"
   ]
  },
  {
   "cell_type": "code",
   "execution_count": 87,
   "metadata": {},
   "outputs": [
    {
     "data": {
      "text/plain": [
       "0    44891\n",
       "1       93\n",
       "Name: video, dtype: int64"
      ]
     },
     "execution_count": 87,
     "metadata": {},
     "output_type": "execute_result"
    }
   ],
   "source": [
    "# `video` column\n",
    "df4['video'] = df4['video'].replace({False: 0, True: 1})\n",
    "df4['video'].value_counts()"
   ]
  },
  {
   "cell_type": "markdown",
   "metadata": {},
   "source": [
    "#### `popularity`: convert to float"
   ]
  },
  {
   "cell_type": "code",
   "execution_count": 88,
   "metadata": {},
   "outputs": [
    {
     "data": {
      "text/plain": [
       "imdb_id           object\n",
       "original_title    object\n",
       "poster_path       object\n",
       "title             object\n",
       "dtype: object"
      ]
     },
     "execution_count": 88,
     "metadata": {},
     "output_type": "execute_result"
    }
   ],
   "source": [
    "# `popularity` column\n",
    "df4['popularity'] = df4['popularity'].astype(float)\n",
    "df4.dtypes.loc[df4.dtypes=='object']"
   ]
  },
  {
   "cell_type": "code",
   "execution_count": 89,
   "metadata": {},
   "outputs": [],
   "source": [
    "# Save as a checkpoint\n",
    "df4.to_csv(\"Data/data_cleaning_45.csv\", index=False)"
   ]
  },
  {
   "cell_type": "markdown",
   "metadata": {},
   "source": [
    "## 5. Assess missing data in each row"
   ]
  },
  {
   "cell_type": "code",
   "execution_count": 90,
   "metadata": {},
   "outputs": [],
   "source": [
    "# Load checkpoint\n",
    "df5 = pd.read_csv(\"Data/data_cleaning_45.csv\")"
   ]
  },
  {
   "cell_type": "code",
   "execution_count": 91,
   "metadata": {},
   "outputs": [
    {
     "data": {
      "text/plain": [
       "Text(0.5,0,'Proportion of missing data in each row')"
      ]
     },
     "execution_count": 91,
     "metadata": {},
     "output_type": "execute_result"
    },
    {
     "data": {
      "image/png": "[encoded data removed]",
      "text/plain": [
       "<Figure size 432x288 with 1 Axes>"
      ]
     },
     "metadata": {},
     "output_type": "display_data"
    }
   ],
   "source": [
    "# How much data is missing in each row of the dataset?\n",
    "df_clean_row = df5\n",
    "missing_row = df_clean_row.isnull().sum(axis=1) / len(df_clean_row.columns)\n",
    "missing_row.sort_values(ascending=False).plot.hist()\n",
    "plt.xlabel(\"Proportion of missing data in each row\")"
   ]
  },
  {
   "cell_type": "markdown",
   "metadata": {},
   "source": [
    "Missing proportion > 0.0005 appears as outlier rows, so 0.0005 is chosen to be the threshold to divide the data into two subsets: one for data points that are above some threshold for missing values, and a second subset for points below that threshold.\n",
    "\n",
    "In order to know what to do with the outlier rows, we should see if the distribution of data values on columns that are not missing data (or are missing very little data) are similar or different between the two groups. We select at least five of these columns and compare the distribution of values.\n",
    "\n",
    "This will have implications on how we approach our conclusions later in the analysis. If the distributions of non-missing features look similar between the data with many missing values and the data with few or no missing values, then we could argue that simply dropping those points from the analysis won't present a major issue. On the other hand, if the data with many missing values looks very different from the data with few or no missing values, then we should make a note on those data as special. \n",
    "\n",
    "We'll revisit these data later on. We continue our analysis for now using just the subset of the data with few or no missing values."
   ]
  },
  {
   "cell_type": "code",
   "execution_count": 92,
   "metadata": {},
   "outputs": [],
   "source": [
    "# Divide the data into two subsets based on the number of missing values in each row.\n",
    "missing_many = df_clean_row.loc[missing_row >= 0.0005]\n",
    "missing_few = df_clean_row.loc[missing_row < 0.0005]"
   ]
  },
  {
   "cell_type": "code",
   "execution_count": 94,
   "metadata": {},
   "outputs": [
    {
     "name": "stderr",
     "output_type": "stream",
     "text": [
      "/anaconda3/envs/py36/lib/python3.6/site-packages/matplotlib/axes/_axes.py:6462: UserWarning: The 'normed' kwarg is deprecated, and has been replaced by the 'density' kwarg.\n",
      "  warnings.warn(\"The 'normed' kwarg is deprecated, and has been \"\n",
      "/anaconda3/envs/py36/lib/python3.6/site-packages/matplotlib/axes/_axes.py:6462: UserWarning: The 'normed' kwarg is deprecated, and has been replaced by the 'density' kwarg.\n",
      "  warnings.warn(\"The 'normed' kwarg is deprecated, and has been \"\n",
      "/anaconda3/envs/py36/lib/python3.6/site-packages/statsmodels/nonparametric/kde.py:488: RuntimeWarning: invalid value encountered in true_divide\n",
      "  binned = fast_linbin(X, a, b, gridsize) / (delta * nobs)\n",
      "/anaconda3/envs/py36/lib/python3.6/site-packages/statsmodels/nonparametric/kdetools.py:34: RuntimeWarning: invalid value encountered in double_scalars\n",
      "  FAC1 = 2*(np.pi*bw/RANGE)**2\n",
      "/anaconda3/envs/py36/lib/python3.6/site-packages/matplotlib/axes/_axes.py:6462: UserWarning: The 'normed' kwarg is deprecated, and has been replaced by the 'density' kwarg.\n",
      "  warnings.warn(\"The 'normed' kwarg is deprecated, and has been \"\n",
      "/anaconda3/envs/py36/lib/python3.6/site-packages/matplotlib/axes/_axes.py:6462: UserWarning: The 'normed' kwarg is deprecated, and has been replaced by the 'density' kwarg.\n",
      "  warnings.warn(\"The 'normed' kwarg is deprecated, and has been \"\n",
      "/anaconda3/envs/py36/lib/python3.6/site-packages/matplotlib/axes/_axes.py:6462: UserWarning: The 'normed' kwarg is deprecated, and has been replaced by the 'density' kwarg.\n",
      "  warnings.warn(\"The 'normed' kwarg is deprecated, and has been \"\n",
      "/anaconda3/envs/py36/lib/python3.6/site-packages/matplotlib/axes/_axes.py:6462: UserWarning: The 'normed' kwarg is deprecated, and has been replaced by the 'density' kwarg.\n",
      "  warnings.warn(\"The 'normed' kwarg is deprecated, and has been \"\n",
      "/anaconda3/envs/py36/lib/python3.6/site-packages/matplotlib/axes/_axes.py:6462: UserWarning: The 'normed' kwarg is deprecated, and has been replaced by the 'density' kwarg.\n",
      "  warnings.warn(\"The 'normed' kwarg is deprecated, and has been \"\n",
      "/anaconda3/envs/py36/lib/python3.6/site-packages/matplotlib/axes/_axes.py:6462: UserWarning: The 'normed' kwarg is deprecated, and has been replaced by the 'density' kwarg.\n",
      "  warnings.warn(\"The 'normed' kwarg is deprecated, and has been \"\n",
      "/anaconda3/envs/py36/lib/python3.6/site-packages/matplotlib/axes/_axes.py:6462: UserWarning: The 'normed' kwarg is deprecated, and has been replaced by the 'density' kwarg.\n",
      "  warnings.warn(\"The 'normed' kwarg is deprecated, and has been \"\n",
      "/anaconda3/envs/py36/lib/python3.6/site-packages/matplotlib/axes/_axes.py:6462: UserWarning: The 'normed' kwarg is deprecated, and has been replaced by the 'density' kwarg.\n",
      "  warnings.warn(\"The 'normed' kwarg is deprecated, and has been \"\n"
     ]
    },
    {
     "data": {
      "image/png": "[encoded data removed]",
      "text/plain": [
       "<Figure size 432x288 with 2 Axes>"
      ]
     },
     "metadata": {},
     "output_type": "display_data"
    },
    {
     "data": {
      "image/png": "[encoded data removed]",
      "text/plain": [
       "<Figure size 432x288 with 2 Axes>"
      ]
     },
     "metadata": {},
     "output_type": "display_data"
    },
    {
     "data": {
      "image/png": "[encoded data removed]",
      "text/plain": [
       "<Figure size 432x288 with 2 Axes>"
      ]
     },
     "metadata": {},
     "output_type": "display_data"
    },
    {
     "data": {
      "image/png": "[encoded data removed]",
      "text/plain": [
       "<Figure size 432x288 with 2 Axes>"
      ]
     },
     "metadata": {},
     "output_type": "display_data"
    },
    {
     "data": {
      "image/png": "[encoded data removed]",
      "text/plain": [
       "<Figure size 432x288 with 2 Axes>"
      ]
     },
     "metadata": {},
     "output_type": "display_data"
    }
   ],
   "source": [
    "# Function to compare distribution\n",
    "def compare_distribution(column_name):\n",
    "\n",
    "    plt.figure()\n",
    "    plt.subplot(211)\n",
    "    sns.distplot(missing_few[column_name].dropna())\n",
    "    plt.title(f\"Compare column '{column_name}'\")\n",
    "    plt.legend(['rows with few missing values'])\n",
    "    plt.subplot(212)\n",
    "    sns.distplot(missing_many[column_name].dropna())\n",
    "    plt.legend(['rows with many missing values'])\n",
    "    \n",
    "# Compare the distribution of values for at least five columns where there are\n",
    "# no or few missing values, between the two subsets.\n",
    "column_names = list(missing_few.columns)\n",
    "for a in ['id', 'imdb_id', 'original_title', 'title', \n",
    "         ]:\n",
    "    column_names.remove(a)\n",
    "\n",
    "for column_name in random.sample(column_names, 5):\n",
    "    compare_distribution(column_name)"
   ]
  },
  {
   "cell_type": "markdown",
   "metadata": {},
   "source": [
    "The distributions of columns values for rows with few missing data vs. rows with many missing data are similar. Therefore, we can drop rows with many missing values without modify the distribution of features."
   ]
  },
  {
   "cell_type": "code",
   "execution_count": 95,
   "metadata": {},
   "outputs": [],
   "source": [
    "# Drop rows that have >0.0005 missing values\n",
    "df5 = missing_few"
   ]
  },
  {
   "cell_type": "markdown",
   "metadata": {},
   "source": [
    "#### Final check on missing values"
   ]
  },
  {
   "cell_type": "code",
   "execution_count": 96,
   "metadata": {},
   "outputs": [
    {
     "data": {
      "text/plain": [
       "Text(0.5,1,'Proportion of missing data in each column')"
      ]
     },
     "execution_count": 96,
     "metadata": {},
     "output_type": "execute_result"
    },
    {
     "data": {
      "image/png": "[encoded data removed]",
      "text/plain": [
       "<Figure size 1440x360 with 1 Axes>"
      ]
     },
     "metadata": {},
     "output_type": "display_data"
    }
   ],
   "source": [
    "# Perform an assessment of how much missing data there is in each column of the dataset.\n",
    "missing_col = df5.isnull().sum() / len(df5.index)\n",
    "missing_col.head()\n",
    "\n",
    "# Investigate patterns in the amount of missing data in each column.\n",
    "missing_col.sort_values(ascending=False)[0:50].plot.bar(figsize=(20,5))\n",
    "plt.xlabel(\"Column name\")\n",
    "plt.ylabel(\"Proportion of missing data in each column\")\n",
    "plt.title(\"Proportion of missing data in each column\")"
   ]
  },
  {
   "cell_type": "code",
   "execution_count": 107,
   "metadata": {},
   "outputs": [],
   "source": [
    "# Save as checkpoint\n",
    "df5.to_csv(\"Data/data_cleaning_5.csv\", index=False)\n",
    "df5.to_csv(\"Data/data_cleaning_5.csv.gz\",index=False,compression=\"gzip\")"
   ]
  },
  {
   "cell_type": "markdown",
   "metadata": {},
   "source": [
    "#### Sanity check"
   ]
  },
  {
   "cell_type": "code",
   "execution_count": 101,
   "metadata": {},
   "outputs": [
    {
     "data": {
      "text/html": [
       "<div>\n",
       "<style scoped>\n",
       "    .dataframe tbody tr th:only-of-type {\n",
       "        vertical-align: middle;\n",
       "    }\n",
       "\n",
       "    .dataframe tbody tr th {\n",
       "        vertical-align: top;\n",
       "    }\n",
       "\n",
       "    .dataframe thead th {\n",
       "        text-align: right;\n",
       "    }\n",
       "</style>\n",
       "<table border=\"1\" class=\"dataframe\">\n",
       "  <thead>\n",
       "    <tr style=\"text-align: right;\">\n",
       "      <th></th>\n",
       "      <th>overview_american</th>\n",
       "      <th>overview_away</th>\n",
       "      <th>overview_based</th>\n",
       "      <th>overview_beautiful</th>\n",
       "      <th>overview_begins</th>\n",
       "      <th>overview_best</th>\n",
       "      <th>overview_big</th>\n",
       "      <th>overview_boy</th>\n",
       "      <th>overview_brother</th>\n",
       "      <th>overview_children</th>\n",
       "      <th>...</th>\n",
       "      <th>director_Yasujirō Ozu</th>\n",
       "      <th>director_Yuen Woo-ping</th>\n",
       "      <th>director_Yves Simoneau</th>\n",
       "      <th>director_Yôji Yamada</th>\n",
       "      <th>director_Zhang Yimou</th>\n",
       "      <th>director_Álex de la Iglesia</th>\n",
       "      <th>director_Éric Rohmer</th>\n",
       "      <th>release_year</th>\n",
       "      <th>release_month</th>\n",
       "      <th>release_day</th>\n",
       "    </tr>\n",
       "  </thead>\n",
       "  <tbody>\n",
       "    <tr>\n",
       "      <th>count</th>\n",
       "      <td>44600.000000</td>\n",
       "      <td>44600.000000</td>\n",
       "      <td>44600.000000</td>\n",
       "      <td>44600.000000</td>\n",
       "      <td>44600.000000</td>\n",
       "      <td>44600.000000</td>\n",
       "      <td>44600.000000</td>\n",
       "      <td>44600.000000</td>\n",
       "      <td>44600.000000</td>\n",
       "      <td>44600.000000</td>\n",
       "      <td>...</td>\n",
       "      <td>44600.000000</td>\n",
       "      <td>44600.000000</td>\n",
       "      <td>44600.000000</td>\n",
       "      <td>44600.000000</td>\n",
       "      <td>44600.000000</td>\n",
       "      <td>44600.000000</td>\n",
       "      <td>44600.000000</td>\n",
       "      <td>44600.000000</td>\n",
       "      <td>44600.000000</td>\n",
       "      <td>44600.000000</td>\n",
       "    </tr>\n",
       "    <tr>\n",
       "      <th>mean</th>\n",
       "      <td>0.019627</td>\n",
       "      <td>0.011528</td>\n",
       "      <td>0.015279</td>\n",
       "      <td>0.013293</td>\n",
       "      <td>0.015472</td>\n",
       "      <td>0.015239</td>\n",
       "      <td>0.011905</td>\n",
       "      <td>0.015057</td>\n",
       "      <td>0.013412</td>\n",
       "      <td>0.012421</td>\n",
       "      <td>...</td>\n",
       "      <td>0.000673</td>\n",
       "      <td>0.000247</td>\n",
       "      <td>0.000247</td>\n",
       "      <td>0.000247</td>\n",
       "      <td>0.000404</td>\n",
       "      <td>0.000336</td>\n",
       "      <td>0.000605</td>\n",
       "      <td>1991.831771</td>\n",
       "      <td>6.471323</td>\n",
       "      <td>14.238386</td>\n",
       "    </tr>\n",
       "    <tr>\n",
       "      <th>std</th>\n",
       "      <td>0.101817</td>\n",
       "      <td>0.072118</td>\n",
       "      <td>0.087722</td>\n",
       "      <td>0.079969</td>\n",
       "      <td>0.083893</td>\n",
       "      <td>0.082961</td>\n",
       "      <td>0.077232</td>\n",
       "      <td>0.085534</td>\n",
       "      <td>0.083561</td>\n",
       "      <td>0.081663</td>\n",
       "      <td>...</td>\n",
       "      <td>0.025927</td>\n",
       "      <td>0.015703</td>\n",
       "      <td>0.015703</td>\n",
       "      <td>0.015703</td>\n",
       "      <td>0.020086</td>\n",
       "      <td>0.018336</td>\n",
       "      <td>0.024597</td>\n",
       "      <td>24.030808</td>\n",
       "      <td>3.620973</td>\n",
       "      <td>9.268822</td>\n",
       "    </tr>\n",
       "    <tr>\n",
       "      <th>min</th>\n",
       "      <td>0.000000</td>\n",
       "      <td>0.000000</td>\n",
       "      <td>0.000000</td>\n",
       "      <td>0.000000</td>\n",
       "      <td>0.000000</td>\n",
       "      <td>0.000000</td>\n",
       "      <td>0.000000</td>\n",
       "      <td>0.000000</td>\n",
       "      <td>0.000000</td>\n",
       "      <td>0.000000</td>\n",
       "      <td>...</td>\n",
       "      <td>0.000000</td>\n",
       "      <td>0.000000</td>\n",
       "      <td>0.000000</td>\n",
       "      <td>0.000000</td>\n",
       "      <td>0.000000</td>\n",
       "      <td>0.000000</td>\n",
       "      <td>0.000000</td>\n",
       "      <td>1874.000000</td>\n",
       "      <td>1.000000</td>\n",
       "      <td>1.000000</td>\n",
       "    </tr>\n",
       "    <tr>\n",
       "      <th>25%</th>\n",
       "      <td>0.000000</td>\n",
       "      <td>0.000000</td>\n",
       "      <td>0.000000</td>\n",
       "      <td>0.000000</td>\n",
       "      <td>0.000000</td>\n",
       "      <td>0.000000</td>\n",
       "      <td>0.000000</td>\n",
       "      <td>0.000000</td>\n",
       "      <td>0.000000</td>\n",
       "      <td>0.000000</td>\n",
       "      <td>...</td>\n",
       "      <td>0.000000</td>\n",
       "      <td>0.000000</td>\n",
       "      <td>0.000000</td>\n",
       "      <td>0.000000</td>\n",
       "      <td>0.000000</td>\n",
       "      <td>0.000000</td>\n",
       "      <td>0.000000</td>\n",
       "      <td>1978.000000</td>\n",
       "      <td>3.000000</td>\n",
       "      <td>6.000000</td>\n",
       "    </tr>\n",
       "    <tr>\n",
       "      <th>50%</th>\n",
       "      <td>0.000000</td>\n",
       "      <td>0.000000</td>\n",
       "      <td>0.000000</td>\n",
       "      <td>0.000000</td>\n",
       "      <td>0.000000</td>\n",
       "      <td>0.000000</td>\n",
       "      <td>0.000000</td>\n",
       "      <td>0.000000</td>\n",
       "      <td>0.000000</td>\n",
       "      <td>0.000000</td>\n",
       "      <td>...</td>\n",
       "      <td>0.000000</td>\n",
       "      <td>0.000000</td>\n",
       "      <td>0.000000</td>\n",
       "      <td>0.000000</td>\n",
       "      <td>0.000000</td>\n",
       "      <td>0.000000</td>\n",
       "      <td>0.000000</td>\n",
       "      <td>2001.000000</td>\n",
       "      <td>7.000000</td>\n",
       "      <td>14.000000</td>\n",
       "    </tr>\n",
       "    <tr>\n",
       "      <th>75%</th>\n",
       "      <td>0.000000</td>\n",
       "      <td>0.000000</td>\n",
       "      <td>0.000000</td>\n",
       "      <td>0.000000</td>\n",
       "      <td>0.000000</td>\n",
       "      <td>0.000000</td>\n",
       "      <td>0.000000</td>\n",
       "      <td>0.000000</td>\n",
       "      <td>0.000000</td>\n",
       "      <td>0.000000</td>\n",
       "      <td>...</td>\n",
       "      <td>0.000000</td>\n",
       "      <td>0.000000</td>\n",
       "      <td>0.000000</td>\n",
       "      <td>0.000000</td>\n",
       "      <td>0.000000</td>\n",
       "      <td>0.000000</td>\n",
       "      <td>0.000000</td>\n",
       "      <td>2010.000000</td>\n",
       "      <td>10.000000</td>\n",
       "      <td>22.000000</td>\n",
       "    </tr>\n",
       "    <tr>\n",
       "      <th>max</th>\n",
       "      <td>1.000000</td>\n",
       "      <td>1.000000</td>\n",
       "      <td>1.000000</td>\n",
       "      <td>1.000000</td>\n",
       "      <td>1.000000</td>\n",
       "      <td>1.000000</td>\n",
       "      <td>1.000000</td>\n",
       "      <td>1.000000</td>\n",
       "      <td>1.000000</td>\n",
       "      <td>1.000000</td>\n",
       "      <td>...</td>\n",
       "      <td>1.000000</td>\n",
       "      <td>1.000000</td>\n",
       "      <td>1.000000</td>\n",
       "      <td>1.000000</td>\n",
       "      <td>1.000000</td>\n",
       "      <td>1.000000</td>\n",
       "      <td>1.000000</td>\n",
       "      <td>2017.000000</td>\n",
       "      <td>12.000000</td>\n",
       "      <td>31.000000</td>\n",
       "    </tr>\n",
       "  </tbody>\n",
       "</table>\n",
       "<p>8 rows × 1150 columns</p>\n",
       "</div>"
      ],
      "text/plain": [
       "       overview_american  overview_away  overview_based  overview_beautiful  \\\n",
       "count       44600.000000   44600.000000    44600.000000        44600.000000   \n",
       "mean            0.019627       0.011528        0.015279            0.013293   \n",
       "std             0.101817       0.072118        0.087722            0.079969   \n",
       "min             0.000000       0.000000        0.000000            0.000000   \n",
       "25%             0.000000       0.000000        0.000000            0.000000   \n",
       "50%             0.000000       0.000000        0.000000            0.000000   \n",
       "75%             0.000000       0.000000        0.000000            0.000000   \n",
       "max             1.000000       1.000000        1.000000            1.000000   \n",
       "\n",
       "       overview_begins  overview_best  overview_big  overview_boy  \\\n",
       "count     44600.000000   44600.000000  44600.000000  44600.000000   \n",
       "mean          0.015472       0.015239      0.011905      0.015057   \n",
       "std           0.083893       0.082961      0.077232      0.085534   \n",
       "min           0.000000       0.000000      0.000000      0.000000   \n",
       "25%           0.000000       0.000000      0.000000      0.000000   \n",
       "50%           0.000000       0.000000      0.000000      0.000000   \n",
       "75%           0.000000       0.000000      0.000000      0.000000   \n",
       "max           1.000000       1.000000      1.000000      1.000000   \n",
       "\n",
       "       overview_brother  overview_children      ...       \\\n",
       "count      44600.000000       44600.000000      ...        \n",
       "mean           0.013412           0.012421      ...        \n",
       "std            0.083561           0.081663      ...        \n",
       "min            0.000000           0.000000      ...        \n",
       "25%            0.000000           0.000000      ...        \n",
       "50%            0.000000           0.000000      ...        \n",
       "75%            0.000000           0.000000      ...        \n",
       "max            1.000000           1.000000      ...        \n",
       "\n",
       "       director_Yasujirō Ozu  director_Yuen Woo-ping  director_Yves Simoneau  \\\n",
       "count           44600.000000            44600.000000            44600.000000   \n",
       "mean                0.000673                0.000247                0.000247   \n",
       "std                 0.025927                0.015703                0.015703   \n",
       "min                 0.000000                0.000000                0.000000   \n",
       "25%                 0.000000                0.000000                0.000000   \n",
       "50%                 0.000000                0.000000                0.000000   \n",
       "75%                 0.000000                0.000000                0.000000   \n",
       "max                 1.000000                1.000000                1.000000   \n",
       "\n",
       "       director_Yôji Yamada  director_Zhang Yimou  \\\n",
       "count          44600.000000          44600.000000   \n",
       "mean               0.000247              0.000404   \n",
       "std                0.015703              0.020086   \n",
       "min                0.000000              0.000000   \n",
       "25%                0.000000              0.000000   \n",
       "50%                0.000000              0.000000   \n",
       "75%                0.000000              0.000000   \n",
       "max                1.000000              1.000000   \n",
       "\n",
       "       director_Álex de la Iglesia  director_Éric Rohmer  release_year  \\\n",
       "count                 44600.000000          44600.000000  44600.000000   \n",
       "mean                      0.000336              0.000605   1991.831771   \n",
       "std                       0.018336              0.024597     24.030808   \n",
       "min                       0.000000              0.000000   1874.000000   \n",
       "25%                       0.000000              0.000000   1978.000000   \n",
       "50%                       0.000000              0.000000   2001.000000   \n",
       "75%                       0.000000              0.000000   2010.000000   \n",
       "max                       1.000000              1.000000   2017.000000   \n",
       "\n",
       "       release_month   release_day  \n",
       "count   44600.000000  44600.000000  \n",
       "mean        6.471323     14.238386  \n",
       "std         3.620973      9.268822  \n",
       "min         1.000000      1.000000  \n",
       "25%         3.000000      6.000000  \n",
       "50%         7.000000     14.000000  \n",
       "75%        10.000000     22.000000  \n",
       "max        12.000000     31.000000  \n",
       "\n",
       "[8 rows x 1150 columns]"
      ]
     },
     "execution_count": 101,
     "metadata": {},
     "output_type": "execute_result"
    }
   ],
   "source": [
    "df5.describe()"
   ]
  },
  {
   "cell_type": "code",
   "execution_count": 108,
   "metadata": {},
   "outputs": [
    {
     "data": {
      "text/plain": [
       "(44600, 1153)"
      ]
     },
     "execution_count": 108,
     "metadata": {},
     "output_type": "execute_result"
    }
   ],
   "source": [
    "df5.shape"
   ]
  },
  {
   "cell_type": "code",
   "execution_count": 109,
   "metadata": {},
   "outputs": [
    {
     "data": {
      "text/plain": [
       "imdb_id           object\n",
       "original_title    object\n",
       "title             object\n",
       "dtype: object"
      ]
     },
     "execution_count": 109,
     "metadata": {},
     "output_type": "execute_result"
    }
   ],
   "source": [
    "df5.dtypes.loc[df5.dtypes==object]"
   ]
  },
  {
   "cell_type": "code",
   "execution_count": null,
   "metadata": {},
   "outputs": [],
   "source": []
  }
 ],
 "metadata": {
  "kernelspec": {
   "display_name": "Python 3",
   "language": "python",
   "name": "python3"
  },
  "language_info": {
   "codemirror_mode": {
    "name": "ipython",
    "version": 3
   },
   "file_extension": ".py",
   "mimetype": "text/x-python",
   "name": "python",
   "nbconvert_exporter": "python",
   "pygments_lexer": "ipython3",
   "version": "3.6.5"
  }
 },
 "nbformat": 4,
 "nbformat_minor": 2
}
